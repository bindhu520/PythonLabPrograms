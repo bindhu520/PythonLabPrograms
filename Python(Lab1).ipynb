{
  "nbformat": 4,
  "nbformat_minor": 0,
  "metadata": {
    "colab": {
      "name": "Python(Lab1).ipynb",
      "provenance": [],
      "collapsed_sections": [],
      "include_colab_link": true
    },
    "kernelspec": {
      "name": "python3",
      "display_name": "Python 3"
    }
  },
  "cells": [
    {
      "cell_type": "markdown",
      "metadata": {
        "id": "view-in-github",
        "colab_type": "text"
      },
      "source": [
        "<a href=\"https://colab.research.google.com/github/bindhu520/PythonLabPrograms/blob/main/Python(Lab1).ipynb\" target=\"_parent\"><img src=\"https://colab.research.google.com/assets/colab-badge.svg\" alt=\"Open In Colab\"/></a>"
      ]
    },
    {
      "cell_type": "markdown",
      "metadata": {
        "id": "WJJ02aX0vXkM"
      },
      "source": [
        "# 1. Write a program to demonstrate different number data types in Python"
      ]
    },
    {
      "cell_type": "markdown",
      "metadata": {
        "id": "A-87haQSyHDg"
      },
      "source": [
        "Variables can hold values, and every value has a data-type. Python is a dynamically typed language; hence we do not need to define the type of the variable while declaring it. The interpreter implicitly binds the value with its type.\r\n",
        "\r\n",
        "a = 5  \r\n",
        "The variable a holds integer value five and we did not define its type. Python interpreter will automatically interpret variables a as an integer type.\r\n",
        "\r\n",
        "Python enables us to check the type of the variable used in the program. Python provides us the type() function, which returns the type of the variable passed."
      ]
    },
    {
      "cell_type": "code",
      "metadata": {
        "colab": {
          "base_uri": "https://localhost:8080/"
        },
        "id": "hVPWU1R4uGRV",
        "outputId": "1b701190-e86e-46be-d902-1b6ead75d51f"
      },
      "source": [
        "a=10  \r\n",
        "b=\"Hi Python\"  \r\n",
        "c = 10.5  \r\n",
        "print(type(a))  \r\n",
        "print(type(b))  \r\n",
        "print(type(c))  "
      ],
      "execution_count": null,
      "outputs": [
        {
          "output_type": "stream",
          "text": [
            "<class 'int'>\n",
            "<class 'str'>\n",
            "<class 'float'>\n"
          ],
          "name": "stdout"
        }
      ]
    },
    {
      "cell_type": "markdown",
      "metadata": {
        "id": "JZBcAKhhv437"
      },
      "source": [
        "#Numbers\r\n"
      ]
    },
    {
      "cell_type": "markdown",
      "metadata": {
        "id": "oeA-pSVhx5OI"
      },
      "source": [
        "Number stores numeric values. The integer, float, and complex values belong to a Python Numbers data-type. Python provides the type() function to know the data-type of the variable. Similarly, the isinstance() function is used to check an object belongs to a particular class.\r\n",
        "\r\n",
        "Python creates Number objects when a number is assigned to a variable. For example;"
      ]
    },
    {
      "cell_type": "markdown",
      "metadata": {
        "id": "BQQcfppGx9VJ"
      },
      "source": [
        "Python supports three types of numeric data.\r\n",
        "\r\n",
        "Int - Integer value can be any length such as integers 10, 2, 29, -20, -150 etc. Python has no restriction on the length of an integer. Its value belongs to int\r\n",
        "Float - Float is used to store floating-point numbers like 1.9, 9.902, 15.2, etc. It is accurate upto 15 decimal points.\r\n",
        "complex - A complex number contains an ordered pair, i.e., x + iy where x and y denote the real and imaginary parts, respectively. The complex numbers like 2.14j, 2.0 + 2.3j, etc."
      ]
    },
    {
      "cell_type": "code",
      "metadata": {
        "colab": {
          "base_uri": "https://localhost:8080/"
        },
        "id": "xqrVg0Fbv2bx",
        "outputId": "cd8a59c3-4a66-45a2-ca36-f1eaea87a1aa"
      },
      "source": [
        "a = 5  \r\n",
        "print(\"The type of a\", type(a))  \r\n",
        "  \r\n",
        "b = 40.5  \r\n",
        "print(\"The type of b\", type(b))  \r\n",
        "  \r\n",
        "c = 1+3j  \r\n",
        "print(\"The type of c\", type(c))  \r\n",
        "print(\" c is a complex number\", isinstance(1+3j,complex))  "
      ],
      "execution_count": null,
      "outputs": [
        {
          "output_type": "stream",
          "text": [
            "The type of a <class 'int'>\n",
            "The type of b <class 'float'>\n",
            "The type of c <class 'complex'>\n",
            " c is a complex number True\n"
          ],
          "name": "stdout"
        }
      ]
    },
    {
      "cell_type": "markdown",
      "metadata": {
        "id": "UxcyyO8rwTKY"
      },
      "source": [
        "# Sequence Type (Example 1)"
      ]
    },
    {
      "cell_type": "markdown",
      "metadata": {
        "id": "EnRYDGuUxsPE"
      },
      "source": [
        "String\r\n",
        "The string can be defined as the sequence of characters represented in the quotation marks. In Python, we can use single, double, or triple quotes to define a string.\r\n",
        "\r\n",
        "String handling in Python is a straightforward task since Python provides built-in functions and operators to perform operations in the string.\r\n",
        "\r\n",
        "In the case of string handling, the operator + is used to concatenate two strings as the operation \"hello\"+\" python\" returns \"hello python\".\r\n",
        "\r\n",
        "The operator * is known as a repetition operator as the operation \"Python\" *2 returns 'Python Python'.\r\n",
        "\r\n",
        "The following example illustrates the string in Python."
      ]
    },
    {
      "cell_type": "code",
      "metadata": {
        "colab": {
          "base_uri": "https://localhost:8080/"
        },
        "id": "Z3gG23z5wD6e",
        "outputId": "3a0d4967-10d3-4eee-b3e1-4a7863b9180c"
      },
      "source": [
        "str = \"string using double quotes\"  \r\n",
        "print(str)  \r\n",
        "s = '''''A multiline \r\n",
        "string'''  \r\n",
        "print(s)  "
      ],
      "execution_count": null,
      "outputs": [
        {
          "output_type": "stream",
          "text": [
            "string using double quotes\n",
            "''A multiline \n",
            "string\n"
          ],
          "name": "stdout"
        }
      ]
    },
    {
      "cell_type": "markdown",
      "metadata": {
        "id": "dYihOsQewH_U"
      },
      "source": [
        "#Sequence Type (Example 2)"
      ]
    },
    {
      "cell_type": "code",
      "metadata": {
        "colab": {
          "base_uri": "https://localhost:8080/"
        },
        "id": "fr38GIpiwGpq",
        "outputId": "097db907-4e67-4687-854c-7c8f3fc70355"
      },
      "source": [
        "str1 = 'hello javatpoint' #string str1    \r\n",
        "str2 = ' how are you' #string str2    \r\n",
        "print (str1[0:2]) #printing first two character using slice operator    \r\n",
        "print (str1[4]) #printing 4th character of the string    \r\n",
        "print (str1*2) #printing the string twice    \r\n",
        "print (str1 + str2) #printing the concatenation of str1 and str2    "
      ],
      "execution_count": null,
      "outputs": [
        {
          "output_type": "stream",
          "text": [
            "he\n",
            "o\n",
            "hello javatpointhello javatpoint\n",
            "hello javatpoint how are you\n"
          ],
          "name": "stdout"
        }
      ]
    },
    {
      "cell_type": "markdown",
      "metadata": {
        "id": "EylYUfF1wzy6"
      },
      "source": [
        "#List"
      ]
    },
    {
      "cell_type": "markdown",
      "metadata": {
        "id": "vUEIslg-xnS7"
      },
      "source": [
        "Python Lists are similar to arrays in C. However, the list can contain data of different types. The items stored in the list are separated with a comma (,) and enclosed within square brackets [].\r\n",
        "\r\n",
        "We can use slice [:] operators to access the data of the list. The concatenation operator (+) and repetition operator (*) works with the list in the same way as they were working with the strings.\r\n",
        "\r\n",
        "Consider the following example."
      ]
    },
    {
      "cell_type": "code",
      "metadata": {
        "colab": {
          "base_uri": "https://localhost:8080/"
        },
        "id": "Hbnck_-Tw2zB",
        "outputId": "def79e1d-8594-4f03-9f45-cb73c841dfcc"
      },
      "source": [
        "list1  = [1, \"hi\", \"Python\", 2]    \r\n",
        "#Checking type of given list  \r\n",
        "print(type(list1))  \r\n",
        "  \r\n",
        "#Printing the list1  \r\n",
        "print (list1)  \r\n",
        "  \r\n",
        "# List slicing  \r\n",
        "print (list1[3:])  \r\n",
        "  \r\n",
        "# List slicing  \r\n",
        "print (list1[0:2])   \r\n",
        "  \r\n",
        "# List Concatenation using + operator  \r\n",
        "print (list1 + list1)  \r\n",
        "  \r\n",
        "# List repetation using * operator  \r\n",
        "print (list1 * 3)  "
      ],
      "execution_count": null,
      "outputs": [
        {
          "output_type": "stream",
          "text": [
            "<class 'list'>\n",
            "[1, 'hi', 'Python', 2]\n",
            "[2]\n",
            "[1, 'hi']\n",
            "[1, 'hi', 'Python', 2, 1, 'hi', 'Python', 2]\n",
            "[1, 'hi', 'Python', 2, 1, 'hi', 'Python', 2, 1, 'hi', 'Python', 2]\n"
          ],
          "name": "stdout"
        }
      ]
    },
    {
      "cell_type": "markdown",
      "metadata": {
        "id": "p3VaT-DDw5Ge"
      },
      "source": [
        "# Tuple"
      ]
    },
    {
      "cell_type": "markdown",
      "metadata": {
        "id": "aC_HQzuyxcs1"
      },
      "source": [
        "A tuple is similar to the list in many ways. Like lists, tuples also contain the collection of the items of different data types. The items of the tuple are separated with a comma (,) and enclosed in parentheses ().\r\n",
        "\r\n",
        "A tuple is a read-only data structure as we can't modify the size and value of the items of a tuple.\r\n",
        "\r\n",
        "Let's see a simple example of the tuple."
      ]
    },
    {
      "cell_type": "code",
      "metadata": {
        "colab": {
          "base_uri": "https://localhost:8080/",
          "height": 288
        },
        "id": "RKm7YA-3w5uA",
        "outputId": "a411a7ec-3848-45e5-dc46-4f8fdae260f9"
      },
      "source": [
        "tup  = (\"hi\", \"Python\", 2)    \r\n",
        "# Checking type of tup  \r\n",
        "print (type(tup))    \r\n",
        "  \r\n",
        "#Printing the tuple  \r\n",
        "print (tup)  \r\n",
        "  \r\n",
        "# Tuple slicing  \r\n",
        "print (tup[1:])    \r\n",
        "print (tup[0:1])    \r\n",
        "  \r\n",
        "# Tuple concatenation using + operator  \r\n",
        "print (tup + tup)    \r\n",
        "  \r\n",
        "# Tuple repatation using * operator  \r\n",
        "print (tup * 3)     \r\n",
        "  \r\n",
        "# Adding value to tup. It will throw an error.  \r\n",
        "t[2] = \"hi\"  "
      ],
      "execution_count": null,
      "outputs": [
        {
          "output_type": "stream",
          "text": [
            "<class 'tuple'>\n",
            "('hi', 'Python', 2)\n",
            "('Python', 2)\n",
            "('hi',)\n",
            "('hi', 'Python', 2, 'hi', 'Python', 2)\n",
            "('hi', 'Python', 2, 'hi', 'Python', 2, 'hi', 'Python', 2)\n"
          ],
          "name": "stdout"
        },
        {
          "output_type": "error",
          "ename": "NameError",
          "evalue": "ignored",
          "traceback": [
            "\u001b[0;31m---------------------------------------------------------------------------\u001b[0m",
            "\u001b[0;31mNameError\u001b[0m                                 Traceback (most recent call last)",
            "\u001b[0;32m<ipython-input-6-491703369a42>\u001b[0m in \u001b[0;36m<module>\u001b[0;34m()\u001b[0m\n\u001b[1;32m     17\u001b[0m \u001b[0;34m\u001b[0m\u001b[0m\n\u001b[1;32m     18\u001b[0m \u001b[0;31m# Adding value to tup. It will throw an error.\u001b[0m\u001b[0;34m\u001b[0m\u001b[0;34m\u001b[0m\u001b[0;34m\u001b[0m\u001b[0m\n\u001b[0;32m---> 19\u001b[0;31m \u001b[0mt\u001b[0m\u001b[0;34m[\u001b[0m\u001b[0;36m2\u001b[0m\u001b[0;34m]\u001b[0m \u001b[0;34m=\u001b[0m \u001b[0;34m\"hi\"\u001b[0m\u001b[0;34m\u001b[0m\u001b[0;34m\u001b[0m\u001b[0m\n\u001b[0m",
            "\u001b[0;31mNameError\u001b[0m: name 't' is not defined"
          ]
        }
      ]
    },
    {
      "cell_type": "markdown",
      "metadata": {
        "id": "c4yXhNhwxH8t"
      },
      "source": [
        "# Dictionary\r\n"
      ]
    },
    {
      "cell_type": "markdown",
      "metadata": {
        "id": "54MwZLvaxU3z"
      },
      "source": [
        "Dictionary is an unordered set of a key-value pair of items. It is like an associative array or a hash table where each key stores a specific value. Key can hold any primitive data type, whereas value is an arbitrary Python object.\r\n",
        "\r\n",
        "The items in the dictionary are separated with the comma (,) and enclosed in the curly braces {}.\r\n",
        "\r\n",
        "Consider the following example."
      ]
    },
    {
      "cell_type": "code",
      "metadata": {
        "colab": {
          "base_uri": "https://localhost:8080/"
        },
        "id": "w9c4cTamxMrk",
        "outputId": "49a7b054-a8d5-4ac2-b487-977a320f4e0f"
      },
      "source": [
        "d = {1:'Jimmy', 2:'Alex', 3:'john', 4:'mike'}     \r\n",
        "  \r\n",
        "# Printing dictionary  \r\n",
        "print (d)  \r\n",
        "  \r\n",
        "# Accesing value using keys  \r\n",
        "print(\"1st name is \"+d[1])   \r\n",
        "print(\"2nd name is \"+ d[4])    \r\n",
        "  \r\n",
        "print (d.keys())    \r\n",
        "print (d.values())   "
      ],
      "execution_count": null,
      "outputs": [
        {
          "output_type": "stream",
          "text": [
            "{1: 'Jimmy', 2: 'Alex', 3: 'john', 4: 'mike'}\n",
            "1st name is Jimmy\n",
            "2nd name is mike\n",
            "dict_keys([1, 2, 3, 4])\n",
            "dict_values(['Jimmy', 'Alex', 'john', 'mike'])\n"
          ],
          "name": "stdout"
        }
      ]
    },
    {
      "cell_type": "markdown",
      "metadata": {
        "id": "JrbIGi6aylhH"
      },
      "source": [
        "#Boolean"
      ]
    },
    {
      "cell_type": "markdown",
      "metadata": {
        "id": "pjcTBRnTxK4J"
      },
      "source": [
        "Boolean type provides two built-in values, True and False. These values are used to determine the given statement true or false. It denotes by the class bool. True can be represented by any non-zero value or 'T' whereas false can be represented by the 0 or 'F'. Consider the following example.\r\n",
        "\r\n"
      ]
    },
    {
      "cell_type": "code",
      "metadata": {
        "colab": {
          "base_uri": "https://localhost:8080/",
          "height": 223
        },
        "id": "Zpcu_WrLxLiX",
        "outputId": "636a290f-91ef-460d-8c53-af2582d0ace9"
      },
      "source": [
        "# Python program to check the boolean type  \r\n",
        "print(type(True))  \r\n",
        "print(type(False))  \r\n",
        "print(false)  "
      ],
      "execution_count": null,
      "outputs": [
        {
          "output_type": "stream",
          "text": [
            "<class 'bool'>\n",
            "<class 'bool'>\n"
          ],
          "name": "stdout"
        },
        {
          "output_type": "error",
          "ename": "NameError",
          "evalue": "ignored",
          "traceback": [
            "\u001b[0;31m---------------------------------------------------------------------------\u001b[0m",
            "\u001b[0;31mNameError\u001b[0m                                 Traceback (most recent call last)",
            "\u001b[0;32m<ipython-input-10-8500f6fc86a5>\u001b[0m in \u001b[0;36m<module>\u001b[0;34m()\u001b[0m\n\u001b[1;32m      2\u001b[0m \u001b[0mprint\u001b[0m\u001b[0;34m(\u001b[0m\u001b[0mtype\u001b[0m\u001b[0;34m(\u001b[0m\u001b[0;32mTrue\u001b[0m\u001b[0;34m)\u001b[0m\u001b[0;34m)\u001b[0m\u001b[0;34m\u001b[0m\u001b[0;34m\u001b[0m\u001b[0m\n\u001b[1;32m      3\u001b[0m \u001b[0mprint\u001b[0m\u001b[0;34m(\u001b[0m\u001b[0mtype\u001b[0m\u001b[0;34m(\u001b[0m\u001b[0;32mFalse\u001b[0m\u001b[0;34m)\u001b[0m\u001b[0;34m)\u001b[0m\u001b[0;34m\u001b[0m\u001b[0;34m\u001b[0m\u001b[0m\n\u001b[0;32m----> 4\u001b[0;31m \u001b[0mprint\u001b[0m\u001b[0;34m(\u001b[0m\u001b[0mfalse\u001b[0m\u001b[0;34m)\u001b[0m\u001b[0;34m\u001b[0m\u001b[0;34m\u001b[0m\u001b[0m\n\u001b[0m",
            "\u001b[0;31mNameError\u001b[0m: name 'false' is not defined"
          ]
        }
      ]
    },
    {
      "cell_type": "markdown",
      "metadata": {
        "id": "TiNi6AQ1y24F"
      },
      "source": [
        "#Set"
      ]
    },
    {
      "cell_type": "markdown",
      "metadata": {
        "id": "0vchLOMKy2pi"
      },
      "source": [
        "Python Set is the unordered collection of the data type. It is iterable, mutable(can modify after creation), and has unique elements. In set, the order of the elements is undefined; it may return the changed sequence of the element. The set is created by using a built-in function set(), or a sequence of elements is passed in the curly braces and separated by the comma. It can contain various types of values. Consider the following example."
      ]
    },
    {
      "cell_type": "code",
      "metadata": {
        "colab": {
          "base_uri": "https://localhost:8080/"
        },
        "id": "1W4poNtAxKL2",
        "outputId": "cdde99c1-c4fe-4e6a-acee-e98712e63993"
      },
      "source": [
        "# Creating Empty set  \r\n",
        "set1 = set()  \r\n",
        "  \r\n",
        "set2 = {'James', 2, 3,'Python'}  \r\n",
        "  \r\n",
        "#Printing Set value  \r\n",
        "print(set2)  \r\n",
        "  \r\n",
        "# Adding element to the set  \r\n",
        "  \r\n",
        "set2.add(10)  \r\n",
        "print(set2)  \r\n",
        "  \r\n",
        "#Removing element from the set  \r\n",
        "set2.remove(2)  \r\n",
        "print(set2)  "
      ],
      "execution_count": null,
      "outputs": [
        {
          "output_type": "stream",
          "text": [
            "{'James', 2, 3, 'Python'}\n",
            "{2, 3, 'Python', 10, 'James'}\n",
            "{3, 'Python', 10, 'James'}\n"
          ],
          "name": "stdout"
        }
      ]
    },
    {
      "cell_type": "markdown",
      "metadata": {
        "id": "krrUjcK-zUp7"
      },
      "source": [
        "#2. Write a program to perform different Arithmetic Operations on numbers in Python. \r\n"
      ]
    },
    {
      "cell_type": "markdown",
      "metadata": {
        "id": "3CFWXB-bzUbj"
      },
      "source": [
        "Python program to do arithmetical operations\r\n",
        "The arithmetic operations are performed by calculator where we can perform addition, subtraction, multiplication and division. This example shows the basic arithmetic operations i.e.\r\n",
        "\r\n",
        "Addition\r\n",
        "Subtraction\r\n",
        "Multiplication\r\n",
        "Division"
      ]
    },
    {
      "cell_type": "code",
      "metadata": {
        "colab": {
          "base_uri": "https://localhost:8080/"
        },
        "id": "29mrsCG1zkja",
        "outputId": "2939ae3f-bd75-49d1-8e83-edc467cfd007"
      },
      "source": [
        "# Store input numbers:  \r\n",
        "num1 = input('Enter first number: ')  \r\n",
        "num2 = input('Enter second number: ')  \r\n",
        "  \r\n",
        "# Add two numbers  \r\n",
        "sum = float(num1) + float(num2)  \r\n",
        "# Subtract two numbers  \r\n",
        "min = float(num1) - float(num2)  \r\n",
        "# Multiply two numbers  \r\n",
        "mul = float(num1) * float(num2)  \r\n",
        "#Divide two numbers  \r\n",
        "div = float(num1) / float(num2)  \r\n",
        "# Display the sum  \r\n",
        "print('The sum of {0} and {1} is {2}'.format(num1, num2, sum))  \r\n",
        "  \r\n",
        "# Display the subtraction  \r\n",
        "print('The subtraction of {0} and {1} is {2}'.format(num1, num2, min))  \r\n",
        "# Display the multiplication  \r\n",
        "print('The multiplication of {0} and {1} is {2}'.format(num1, num2, mul))  \r\n",
        "# Display the division  \r\n",
        "print('The division of {0} and {1} is {2}'.format(num1, num2, div))  "
      ],
      "execution_count": null,
      "outputs": [
        {
          "output_type": "stream",
          "text": [
            "Enter first number: 10\n",
            "Enter second number: 20\n",
            "The sum of 10 and 20 is 30.0\n",
            "The subtraction of 10 and 20 is -10.0\n",
            "The multiplication of 10 and 20 is 200.0\n",
            "The division of 10 and 20 is 0.5\n"
          ],
          "name": "stdout"
        }
      ]
    },
    {
      "cell_type": "markdown",
      "metadata": {
        "id": "usEGV2wxz4sF"
      },
      "source": [
        "# 3. Write a program to create, concatenate and print a string and accessing sub-string from a given string.\r\n"
      ]
    },
    {
      "cell_type": "code",
      "metadata": {
        "colab": {
          "base_uri": "https://localhost:8080/"
        },
        "id": "LYgmgf0_z3aK",
        "outputId": "6f90ff23-ca33-4c0d-d69e-b6c6b2cd414f"
      },
      "source": [
        "# Python3 program to print all possible\r\n",
        "# substrings of a given string\r\n",
        "\r\n",
        "\r\n",
        "# Function to print all sub strings\r\n",
        "def subString(Str,n):\r\n",
        "\t\r\n",
        "\t# Pick starting point\r\n",
        "\tfor Len in range(1,n + 1):\r\n",
        "\t\t\r\n",
        "\t\t# Pick ending point\r\n",
        "\t\tfor i in range(n - Len + 1):\r\n",
        "\t\t\t\r\n",
        "\t\t\t# Print characters from current\r\n",
        "\t\t\t# starting point to current ending\r\n",
        "\t\t\t# point. \r\n",
        "\t\t\tj = i + Len - 1\r\n",
        "\r\n",
        "\t\t\tfor k in range(i,j + 1):\r\n",
        "\t\t\t\tprint(Str[k],end=\"\")\r\n",
        "\t\t\tprint()\r\n",
        "\t\t\t\r\n",
        "# Driver program to test above function\r\n",
        "Str = \"divya\"\r\n",
        "subString(Str,len(Str))\r\n"
      ],
      "execution_count": null,
      "outputs": [
        {
          "output_type": "stream",
          "text": [
            "d\n",
            "i\n",
            "v\n",
            "y\n",
            "a\n",
            "di\n",
            "iv\n",
            "vy\n",
            "ya\n",
            "div\n",
            "ivy\n",
            "vya\n",
            "divy\n",
            "ivya\n",
            "divya\n"
          ],
          "name": "stdout"
        }
      ]
    },
    {
      "cell_type": "markdown",
      "metadata": {
        "id": "3VJ4ZK_30c4G"
      },
      "source": [
        "# 4. Write a python script to print the current date in the following format \"Sun May 29 02:26:23 IST 2017"
      ]
    },
    {
      "cell_type": "code",
      "metadata": {
        "colab": {
          "base_uri": "https://localhost:8080/"
        },
        "id": "trmiY8FS0v90",
        "outputId": "fb4bcee9-e71e-49ed-e5c7-7b6199fb516f"
      },
      "source": [
        "import datetime\r\n",
        "now = datetime.datetime.now()\r\n",
        "print (\"Current date and time : \")\r\n",
        "print (now.strftime(\"%Y-%m-%d %H:%M:%S\"))\r\n"
      ],
      "execution_count": null,
      "outputs": [
        {
          "output_type": "stream",
          "text": [
            "Current date and time : \n",
            "2021-01-23 15:53:42\n"
          ],
          "name": "stdout"
        }
      ]
    },
    {
      "cell_type": "markdown",
      "metadata": {
        "id": "LPdAsXgo1ggG"
      },
      "source": [
        "# 5. Write a program to create, append, and remove lists in python."
      ]
    },
    {
      "cell_type": "markdown",
      "metadata": {
        "id": "MuKMS3vp9O2e"
      },
      "source": [
        "Creating a List\r\n",
        "Lists in Python can be created by just placing the sequence inside the square brackets[]. Unlike Sets, list doesn’t need a built-in function for creation of list."
      ]
    },
    {
      "cell_type": "code",
      "metadata": {
        "colab": {
          "base_uri": "https://localhost:8080/"
        },
        "id": "cT_Rr15g9VI6",
        "outputId": "6224a803-ff1c-4e7b-8569-6917d31e5c47"
      },
      "source": [
        "# Python program to demonstrate \r\n",
        "# Creation of List \r\n",
        "\r\n",
        "# Creating a List \r\n",
        "List = [] \r\n",
        "print(\"Blank List: \") \r\n",
        "print(List) \r\n",
        "\r\n",
        "# Creating a List of numbers \r\n",
        "List = [10, 20, 14] \r\n",
        "print(\"\\nList of numbers: \") \r\n",
        "print(List) \r\n",
        "\r\n",
        "# Creating a List of strings and accessing \r\n",
        "# using index \r\n",
        "List = [\"Geeks\", \"For\", \"Geeks\"] \r\n",
        "print(\"\\nList Items: \") \r\n",
        "print(List[0]) \r\n",
        "print(List[2]) \r\n",
        "\r\n",
        "# Creating a Multi-Dimensional List \r\n",
        "# (By Nesting a list inside a List) \r\n",
        "List = [['Geeks', 'For'] , ['Geeks']] \r\n",
        "print(\"\\nMulti-Dimensional List: \") \r\n",
        "print(List) \r\n"
      ],
      "execution_count": null,
      "outputs": [
        {
          "output_type": "stream",
          "text": [
            "Blank List: \n",
            "[]\n",
            "\n",
            "List of numbers: \n",
            "[10, 20, 14]\n",
            "\n",
            "List Items: \n",
            "Geeks\n",
            "Geeks\n",
            "\n",
            "Multi-Dimensional List: \n",
            "[['Geeks', 'For'], ['Geeks']]\n"
          ],
          "name": "stdout"
        }
      ]
    },
    {
      "cell_type": "markdown",
      "metadata": {
        "id": "EieC4Swd9ad8"
      },
      "source": [
        "#Creating a list with multiple distinct or duplicate elements\r\n",
        "A list may contain duplicate values with their distinct positions and hence, multiple distinct or duplicate values can be passed as a sequence at the time of list creation."
      ]
    },
    {
      "cell_type": "code",
      "metadata": {
        "colab": {
          "base_uri": "https://localhost:8080/"
        },
        "id": "y2Vq_tzi9eBn",
        "outputId": "f14e7367-38b5-4a96-90fa-0261f63b1520"
      },
      "source": [
        "# Creating a List with \r\n",
        "# the use of Numbers \r\n",
        "# (Having duplicate values) \r\n",
        "List = [1, 2, 4, 4, 3, 3, 3, 6, 5] \r\n",
        "print(\"\\nList with the use of Numbers: \") \r\n",
        "print(List) \r\n",
        "\r\n",
        "# Creating a List with \r\n",
        "# mixed type of values \r\n",
        "# (Having numbers and strings) \r\n",
        "List = [1, 2, 'Geeks', 4, 'For', 6, 'Geeks'] \r\n",
        "print(\"\\nList with the use of Mixed Values: \") \r\n",
        "print(List) \r\n"
      ],
      "execution_count": null,
      "outputs": [
        {
          "output_type": "stream",
          "text": [
            "\n",
            "List with the use of Numbers: \n",
            "[1, 2, 4, 4, 3, 3, 3, 6, 5]\n",
            "\n",
            "List with the use of Mixed Values: \n",
            "[1, 2, 'Geeks', 4, 'For', 6, 'Geeks']\n"
          ],
          "name": "stdout"
        }
      ]
    },
    {
      "cell_type": "markdown",
      "metadata": {
        "id": "qSjpH7Lx9krq"
      },
      "source": [
        "#Knowing the size of List"
      ]
    },
    {
      "cell_type": "code",
      "metadata": {
        "colab": {
          "base_uri": "https://localhost:8080/"
        },
        "id": "dUznTr8N9qCM",
        "outputId": "9fcd34d9-dd44-4592-e94e-edd02de45c7a"
      },
      "source": [
        "# Creating a List \r\n",
        "List1 = [] \r\n",
        "print(len(List1)) \r\n",
        "\r\n",
        "# Creating a List of numbers \r\n",
        "List2 = [10, 20, 14] \r\n",
        "print(len(List2)) \r\n"
      ],
      "execution_count": null,
      "outputs": [
        {
          "output_type": "stream",
          "text": [
            "0\n",
            "3\n"
          ],
          "name": "stdout"
        }
      ]
    },
    {
      "cell_type": "markdown",
      "metadata": {
        "id": "gCea7QzN9xS_"
      },
      "source": [
        "# Adding Elements to a List\r\n",
        "Using append() method\r\n",
        "Elements can be added to the List by using built-in append() function. Only one element at a time can be added to the list by using append() method, for addition of multiple elements with the append() method, loops are used. Tuples can also be added to the List with the use of append method because tuples are immutable. Unlike Sets, Lists can also be added to the existing list with the use of append() method."
      ]
    },
    {
      "cell_type": "code",
      "metadata": {
        "colab": {
          "base_uri": "https://localhost:8080/"
        },
        "id": "5nkgLDbe9y5f",
        "outputId": "04c975c5-80e9-45a5-fd2a-a0596548f8a3"
      },
      "source": [
        "# Python program to demonstrate \r\n",
        "# Addition of elements in a List \r\n",
        "\r\n",
        "# Creating a List \r\n",
        "List = [] \r\n",
        "print(\"Initial blank List: \") \r\n",
        "print(List) \r\n",
        "\r\n",
        "# Addition of Elements \r\n",
        "# in the List \r\n",
        "List.append(1) \r\n",
        "List.append(2) \r\n",
        "List.append(4) \r\n",
        "print(\"\\nList after Addition of Three elements: \") \r\n",
        "print(List) \r\n",
        "\r\n",
        "# Adding elements to the List \r\n",
        "# using Iterator \r\n",
        "for i in range(1, 4): \r\n",
        "\tList.append(i) \r\n",
        "print(\"\\nList after Addition of elements from 1-3: \") \r\n",
        "print(List) \r\n",
        "\r\n",
        "# Adding Tuples to the List \r\n",
        "List.append((5, 6)) \r\n",
        "print(\"\\nList after Addition of a Tuple: \") \r\n",
        "print(List) \r\n",
        "\r\n",
        "# Addition of List to a List \r\n",
        "List2 = ['For', 'Geeks'] \r\n",
        "List.append(List2) \r\n",
        "print(\"\\nList after Addition of a List: \") \r\n",
        "print(List) \r\n"
      ],
      "execution_count": null,
      "outputs": [
        {
          "output_type": "stream",
          "text": [
            "Initial blank List: \n",
            "[]\n",
            "\n",
            "List after Addition of Three elements: \n",
            "[1, 2, 4]\n",
            "\n",
            "List after Addition of elements from 1-3: \n",
            "[1, 2, 4, 1, 2, 3]\n",
            "\n",
            "List after Addition of a Tuple: \n",
            "[1, 2, 4, 1, 2, 3, (5, 6)]\n",
            "\n",
            "List after Addition of a List: \n",
            "[1, 2, 4, 1, 2, 3, (5, 6), ['For', 'Geeks']]\n"
          ],
          "name": "stdout"
        }
      ]
    },
    {
      "cell_type": "markdown",
      "metadata": {
        "id": "kCZ7Gfti949g"
      },
      "source": [
        "#Using insert() method\r\n",
        "append() method only works for addition of elements at the end of the List, for addition of element at the desired position, insert() method is used. Unlike append() which takes only one argument, insert() method requires two arguments(position, value)."
      ]
    },
    {
      "cell_type": "code",
      "metadata": {
        "colab": {
          "base_uri": "https://localhost:8080/"
        },
        "id": "AWuFq1Of97tx",
        "outputId": "d54edd16-5572-4559-d775-91dc8d1f6823"
      },
      "source": [
        "# Python program to demonstrate \r\n",
        "# Addition of elements in a List \r\n",
        "\r\n",
        "# Creating a List \r\n",
        "List = [1,2,3,4] \r\n",
        "print(\"Initial List: \") \r\n",
        "print(List) \r\n",
        "\r\n",
        "# Addition of Element at \r\n",
        "# specific Position \r\n",
        "# (using Insert Method) \r\n",
        "List.insert(3, 12) \r\n",
        "List.insert(0, 'Geeks') \r\n",
        "print(\"\\nList after performing Insert Operation: \") \r\n",
        "print(List) \r\n"
      ],
      "execution_count": null,
      "outputs": [
        {
          "output_type": "stream",
          "text": [
            "Initial List: \n",
            "[1, 2, 3, 4]\n",
            "\n",
            "List after performing Insert Operation: \n",
            "['Geeks', 1, 2, 3, 12, 4]\n"
          ],
          "name": "stdout"
        }
      ]
    },
    {
      "cell_type": "markdown",
      "metadata": {
        "id": "odLPLBkV-FZm"
      },
      "source": [
        "#Using extend() method\r\n",
        "Other than append() and insert() methods, there’s one more method for Addition of elements, extend(), this method is used to add multiple elements at the same time at the end of the list.\r\n",
        "\r\n",
        "Note – append() and extend() methods can only add elements at the end"
      ]
    },
    {
      "cell_type": "code",
      "metadata": {
        "colab": {
          "base_uri": "https://localhost:8080/"
        },
        "id": "fHkJtL_4-Hhq",
        "outputId": "039ffd3f-f4ac-4bb9-d872-2c63f502bbbf"
      },
      "source": [
        "# Python program to demonstrate \r\n",
        "# Addition of elements in a List \r\n",
        "\t\r\n",
        "# Creating a List \r\n",
        "List = [1,2,3,4] \r\n",
        "print(\"Initial List: \") \r\n",
        "print(List) \r\n",
        "\r\n",
        "# Addition of multiple elements \r\n",
        "# to the List at the end \r\n",
        "# (using Extend Method) \r\n",
        "List.extend([8, 'Geeks', 'Always']) \r\n",
        "print(\"\\nList after performing Extend Operation: \") \r\n",
        "print(List) \r\n"
      ],
      "execution_count": null,
      "outputs": [
        {
          "output_type": "stream",
          "text": [
            "Initial List: \n",
            "[1, 2, 3, 4]\n",
            "\n",
            "List after performing Extend Operation: \n",
            "[1, 2, 3, 4, 8, 'Geeks', 'Always']\n"
          ],
          "name": "stdout"
        }
      ]
    },
    {
      "cell_type": "markdown",
      "metadata": {
        "id": "ndhqgAFd-LU2"
      },
      "source": [
        "#Accessing elements from the List\r\n",
        "In order to access the list items refer to the index number.Use the index operator [ ] to access an item in a list.The index must be an integer.Nested list are accessed using nested indexing."
      ]
    },
    {
      "cell_type": "code",
      "metadata": {
        "colab": {
          "base_uri": "https://localhost:8080/"
        },
        "id": "R-tlK6Wl-PNj",
        "outputId": "bd09d2ad-f041-497a-f023-230a60aefae8"
      },
      "source": [
        "# Python program to demonstrate \r\n",
        "# accessing of element from list \r\n",
        "\r\n",
        "# Creating a List with \r\n",
        "# the use of multiple values \r\n",
        "List = [\"Geeks\", \"For\", \"Geeks\"] \r\n",
        "\r\n",
        "# accessing a element from the \r\n",
        "# list using index number \r\n",
        "print(\"Accessing a element from the list\") \r\n",
        "print(List[0]) \r\n",
        "print(List[2]) \r\n",
        "\r\n",
        "# Creating a Multi-Dimensional List \r\n",
        "# (By Nesting a list inside a List) \r\n",
        "List = [['Geeks', 'For'] , ['Geeks']] \r\n",
        "\r\n",
        "# accessing an element from the \r\n",
        "# Multi-Dimensional List using \r\n",
        "# index number \r\n",
        "print(\"Acessing a element from a Multi-Dimensional list\") \r\n",
        "print(List[0][1]) \r\n",
        "print(List[1][0]) \r\n"
      ],
      "execution_count": null,
      "outputs": [
        {
          "output_type": "stream",
          "text": [
            "Accessing a element from the list\n",
            "Geeks\n",
            "Geeks\n",
            "Acessing a element from a Multi-Dimensional list\n",
            "For\n",
            "Geeks\n"
          ],
          "name": "stdout"
        }
      ]
    },
    {
      "cell_type": "markdown",
      "metadata": {
        "id": "JD8gLBZ3-UXT"
      },
      "source": [
        "#Negative indexing\r\n",
        "In Python, negative sequence indexes represent positions from the end of the array. Instead of having to compute the offset as in List[len(List)-3], it is enough to just write List[-3]. Negative indexing means beginning from the end, -1 refers to the last item, -2 refers to the second-last item, etc."
      ]
    },
    {
      "cell_type": "code",
      "metadata": {
        "colab": {
          "base_uri": "https://localhost:8080/"
        },
        "id": "qY--dmQQ-WzP",
        "outputId": "35b4ac3d-9eb6-4375-b3eb-f7fea3b6a78a"
      },
      "source": [
        "List = [1, 2, 'Geeks', 4, 'For', 6, 'Geeks'] \r\n",
        "\r\n",
        "# accessing a element using \r\n",
        "# negative indexing \r\n",
        "print(\"Accessing element using negative indexing\") \r\n",
        "\r\n",
        "# print the last element of list \r\n",
        "print(List[-1]) \r\n",
        "\r\n",
        "# print the third last element of list \r\n",
        "print(List[-3]) \r\n"
      ],
      "execution_count": null,
      "outputs": [
        {
          "output_type": "stream",
          "text": [
            "Accessing element using negative indexing\n",
            "Geeks\n",
            "For\n"
          ],
          "name": "stdout"
        }
      ]
    },
    {
      "cell_type": "markdown",
      "metadata": {
        "id": "HexMplPS-dIR"
      },
      "source": [
        "#Removing Elements from the List\r\n",
        "Using remove() method\r\n",
        "Elements can be removed from the List by using built-in remove() function but an Error arises if element doesn’t exist in the set. Remove() method only removes one element at a time, to remove range of elements, iterator is used. The remove() method removes the specified item.\r\n",
        "\r\n",
        "Note – Remove method in List will only remove the first occurrence of the searched element.\r\n",
        "\r\n"
      ]
    },
    {
      "cell_type": "code",
      "metadata": {
        "colab": {
          "base_uri": "https://localhost:8080/"
        },
        "id": "qd_-dABB-fwn",
        "outputId": "07a55a98-7634-4914-9de1-fb2421b89abd"
      },
      "source": [
        "# Python program to demonstrate \r\n",
        "# Removal of elements in a List \r\n",
        "\r\n",
        "# Creating a List \r\n",
        "List = [1, 2, 3, 4, 5, 6, \r\n",
        "\t\t7, 8, 9, 10, 11, 12] \r\n",
        "print(\"Intial List: \") \r\n",
        "print(List) \r\n",
        "\r\n",
        "# Removing elements from List \r\n",
        "# using Remove() method \r\n",
        "List.remove(5) \r\n",
        "List.remove(6) \r\n",
        "print(\"\\nList after Removal of two elements: \") \r\n",
        "print(List) \r\n",
        "\r\n",
        "# Removing elements from List \r\n",
        "# using iterator method \r\n",
        "for i in range(1, 5): \r\n",
        "\tList.remove(i) \r\n",
        "print(\"\\nList after Removing a range of elements: \") \r\n",
        "print(List) \r\n"
      ],
      "execution_count": null,
      "outputs": [
        {
          "output_type": "stream",
          "text": [
            "Intial List: \n",
            "[1, 2, 3, 4, 5, 6, 7, 8, 9, 10, 11, 12]\n",
            "\n",
            "List after Removal of two elements: \n",
            "[1, 2, 3, 4, 7, 8, 9, 10, 11, 12]\n",
            "\n",
            "List after Removing a range of elements: \n",
            "[7, 8, 9, 10, 11, 12]\n"
          ],
          "name": "stdout"
        }
      ]
    },
    {
      "cell_type": "markdown",
      "metadata": {
        "id": "PrlD0crZ-kz8"
      },
      "source": [
        "#Using pop() method\r\n",
        "Pop() function can also be used to remove and return an element from the set, but by default it removes only the last element of the set, to remove element from a specific position of the List, index of the element is passed as an argument to the pop() method."
      ]
    },
    {
      "cell_type": "code",
      "metadata": {
        "colab": {
          "base_uri": "https://localhost:8080/"
        },
        "id": "LP41WICf-ovC",
        "outputId": "56fed18e-88e6-40fa-e047-5ce72b9ab374"
      },
      "source": [
        "List = [1,2,3,4,5] \r\n",
        "\r\n",
        "# Removing element from the \r\n",
        "# Set using the pop() method \r\n",
        "List.pop() \r\n",
        "print(\"\\nList after popping an element: \") \r\n",
        "print(List) \r\n",
        "\r\n",
        "# Removing element at a \r\n",
        "# specific location from the \r\n",
        "# Set using the pop() method \r\n",
        "List.pop(2) \r\n",
        "print(\"\\nList after popping a specific element: \") \r\n",
        "print(List) \r\n"
      ],
      "execution_count": null,
      "outputs": [
        {
          "output_type": "stream",
          "text": [
            "\n",
            "List after popping an element: \n",
            "[1, 2, 3, 4]\n",
            "\n",
            "List after popping a specific element: \n",
            "[1, 2, 4]\n"
          ],
          "name": "stdout"
        }
      ]
    },
    {
      "cell_type": "markdown",
      "metadata": {
        "id": "7fjhzhX_-vmh"
      },
      "source": [
        "#Slicing of a List\r\n",
        "In Python List, there are multiple ways to print the whole List with all the elements, but to print a specific range of elements from the list, we use Slice operation. Slice operation is performed on Lists with the use of a colon(:). To print elements from beginning to a range use [: Index], to print elements from end-use [:-Index], to print elements from specific Index till the end use [Index:], to print elements within a range, use [Start Index:End Index] and to print the whole List with the use of slicing operation, use [:]. Further, to print the whole List in reverse order, use [::-1].\r\n",
        "\r\n",
        "Note – To print elements of List from rear end, use Negative Indexes."
      ]
    },
    {
      "cell_type": "code",
      "metadata": {
        "colab": {
          "base_uri": "https://localhost:8080/"
        },
        "id": "GWeE24bO-yHs",
        "outputId": "ef30f742-5b37-4be2-f1f4-7ab5d7d660a5"
      },
      "source": [
        "# Python program to demonstrate \r\n",
        "# Removal of elements in a List \r\n",
        "\r\n",
        "# Creating a List \r\n",
        "List = ['G','E','E','K','S','F', \r\n",
        "\t\t'O','R','G','E','E','K','S'] \r\n",
        "print(\"Intial List: \") \r\n",
        "print(List) \r\n",
        "\r\n",
        "# Print elements of a range \r\n",
        "# using Slice operation \r\n",
        "Sliced_List = List[3:8] \r\n",
        "print(\"\\nSlicing elements in a range 3-8: \") \r\n",
        "print(Sliced_List) \r\n",
        "\r\n",
        "# Print elements from a \r\n",
        "# pre-defined point to end \r\n",
        "Sliced_List = List[5:] \r\n",
        "print(\"\\nElements sliced from 5th \"\r\n",
        "\t\"element till the end: \") \r\n",
        "print(Sliced_List) \r\n",
        "\r\n",
        "# Printing elements from \r\n",
        "# beginning till end \r\n",
        "Sliced_List = List[:] \r\n",
        "print(\"\\nPrinting all elements using slice operation: \") \r\n",
        "print(Sliced_List) \r\n"
      ],
      "execution_count": null,
      "outputs": [
        {
          "output_type": "stream",
          "text": [
            "Intial List: \n",
            "['G', 'E', 'E', 'K', 'S', 'F', 'O', 'R', 'G', 'E', 'E', 'K', 'S']\n",
            "\n",
            "Slicing elements in a range 3-8: \n",
            "['K', 'S', 'F', 'O', 'R']\n",
            "\n",
            "Elements sliced from 5th element till the end: \n",
            "['F', 'O', 'R', 'G', 'E', 'E', 'K', 'S']\n",
            "\n",
            "Printing all elements using slice operation: \n",
            "['G', 'E', 'E', 'K', 'S', 'F', 'O', 'R', 'G', 'E', 'E', 'K', 'S']\n"
          ],
          "name": "stdout"
        }
      ]
    },
    {
      "cell_type": "markdown",
      "metadata": {
        "id": "6AZkb-eX-2jE"
      },
      "source": [
        "#Negative index List slicing"
      ]
    },
    {
      "cell_type": "code",
      "metadata": {
        "colab": {
          "base_uri": "https://localhost:8080/"
        },
        "id": "Ic-e4fD0-4ke",
        "outputId": "c13eb2ef-b8c2-460e-ae7a-d95e54b9e9ee"
      },
      "source": [
        "# Creating a List \r\n",
        "List = ['G','E','E','K','S','F', \r\n",
        "\t\t'O','R','G','E','E','K','S'] \r\n",
        "print(\"Initial List: \") \r\n",
        "print(List) \r\n",
        "\r\n",
        "# Print elements from beginning \r\n",
        "# to a pre-defined point using Slice \r\n",
        "Sliced_List = List[:-6] \r\n",
        "print(\"\\nElements sliced till 6th element from last: \") \r\n",
        "print(Sliced_List) \r\n",
        "\r\n",
        "# Print elements of a range \r\n",
        "# using negative index List slicing \r\n",
        "Sliced_List = List[-6:-1] \r\n",
        "print(\"\\nElements sliced from index -6 to -1\") \r\n",
        "print(Sliced_List) \r\n",
        "\r\n",
        "# Printing elements in reverse \r\n",
        "# using Slice operation \r\n",
        "Sliced_List = List[::-1] \r\n",
        "print(\"\\nPrinting List in reverse: \") \r\n",
        "print(Sliced_List) \r\n"
      ],
      "execution_count": null,
      "outputs": [
        {
          "output_type": "stream",
          "text": [
            "Initial List: \n",
            "['G', 'E', 'E', 'K', 'S', 'F', 'O', 'R', 'G', 'E', 'E', 'K', 'S']\n",
            "\n",
            "Elements sliced till 6th element from last: \n",
            "['G', 'E', 'E', 'K', 'S', 'F', 'O']\n",
            "\n",
            "Elements sliced from index -6 to -1\n",
            "['R', 'G', 'E', 'E', 'K']\n",
            "\n",
            "Printing List in reverse: \n",
            "['S', 'K', 'E', 'E', 'G', 'R', 'O', 'F', 'S', 'K', 'E', 'E', 'G']\n"
          ],
          "name": "stdout"
        }
      ]
    },
    {
      "cell_type": "markdown",
      "metadata": {
        "id": "JHmrAOqi2JPI"
      },
      "source": [
        "#6. Write a program to demonstrate working with tuples in python."
      ]
    },
    {
      "cell_type": "markdown",
      "metadata": {
        "id": "tE3BHHdV3VEy"
      },
      "source": [
        "# Tuples in Python\r\n",
        "A Tuple is a collection of Python objects separated by commas. In someways a tuple is similar to a list in terms of indexing, nested objects and repetition but a tuple is immutable unlike lists which are mutable.\r\n",
        "\r\n",
        "#Creating Tuples"
      ]
    },
    {
      "cell_type": "code",
      "metadata": {
        "colab": {
          "base_uri": "https://localhost:8080/"
        },
        "id": "O8xRFC_13UmK",
        "outputId": "55b3d138-1dfc-4ecb-e6e6-8b7197ef2d46"
      },
      "source": [
        "# An empty tuple \r\n",
        "empty_tuple = () \r\n",
        "print (empty_tuple) \r\n"
      ],
      "execution_count": null,
      "outputs": [
        {
          "output_type": "stream",
          "text": [
            "()\n"
          ],
          "name": "stdout"
        }
      ]
    },
    {
      "cell_type": "markdown",
      "metadata": {
        "id": "oUdGMHhb3lHI"
      },
      "source": [
        "# Creating non-empty tuples "
      ]
    },
    {
      "cell_type": "code",
      "metadata": {
        "colab": {
          "base_uri": "https://localhost:8080/"
        },
        "id": "0PiVc-nU3g8U",
        "outputId": "9759b142-2744-4723-c156-5d3c126e8e00"
      },
      "source": [
        "# One way of creation \r\n",
        "tup = 'python', 'geeks'\r\n",
        "print(tup) \r\n",
        "\r\n",
        "# Another for doing the same \r\n",
        "tup = ('python', 'geeks') \r\n",
        "print(tup) \r\n"
      ],
      "execution_count": null,
      "outputs": [
        {
          "output_type": "stream",
          "text": [
            "('python', 'geeks')\n",
            "('python', 'geeks')\n"
          ],
          "name": "stdout"
        }
      ]
    },
    {
      "cell_type": "markdown",
      "metadata": {
        "id": "JzuTuEaG3qF9"
      },
      "source": [
        "# Concatenation of Tuples"
      ]
    },
    {
      "cell_type": "code",
      "metadata": {
        "colab": {
          "base_uri": "https://localhost:8080/"
        },
        "id": "sGkLZ8q93tKa",
        "outputId": "f5271001-6726-447d-985c-aded0b26f9f4"
      },
      "source": [
        "# Code for concatenating 2 tuples \r\n",
        "\r\n",
        "tuple1 = (0, 1, 2, 3) \r\n",
        "tuple2 = ('python', 'geek') \r\n",
        "\r\n",
        "# Concatenating above two \r\n",
        "print(tuple1 + tuple2) \r\n"
      ],
      "execution_count": null,
      "outputs": [
        {
          "output_type": "stream",
          "text": [
            "(0, 1, 2, 3, 'python', 'geek')\n"
          ],
          "name": "stdout"
        }
      ]
    },
    {
      "cell_type": "markdown",
      "metadata": {
        "id": "gp72JBKD3gIn"
      },
      "source": [
        "# Nesting of Tuples"
      ]
    },
    {
      "cell_type": "code",
      "metadata": {
        "colab": {
          "base_uri": "https://localhost:8080/"
        },
        "id": "idK4daAt35DA",
        "outputId": "a73e47ec-1616-4701-d8e0-99862b71532a"
      },
      "source": [
        "# Code for creating nested tuples \r\n",
        "\r\n",
        "tuple1 = (0, 1, 2, 3) \r\n",
        "tuple2 = ('python', 'geek') \r\n",
        "tuple3 = (tuple1, tuple2) \r\n",
        "print(tuple3) \r\n"
      ],
      "execution_count": null,
      "outputs": [
        {
          "output_type": "stream",
          "text": [
            "((0, 1, 2, 3), ('python', 'geek'))\n"
          ],
          "name": "stdout"
        }
      ]
    },
    {
      "cell_type": "markdown",
      "metadata": {
        "id": "NVHJvoiL39O2"
      },
      "source": [
        "# Repetition in Tuples"
      ]
    },
    {
      "cell_type": "code",
      "metadata": {
        "colab": {
          "base_uri": "https://localhost:8080/"
        },
        "id": "XRE7PSFC3_xT",
        "outputId": "82ffa8e2-2225-4dce-ce28-5a8333c0d3cc"
      },
      "source": [
        "# Code to create a tuple with repetition \r\n",
        "\r\n",
        "tuple3 = ('python',)*3\r\n",
        "print(tuple3) \r\n"
      ],
      "execution_count": null,
      "outputs": [
        {
          "output_type": "stream",
          "text": [
            "('python', 'python', 'python')\n"
          ],
          "name": "stdout"
        }
      ]
    },
    {
      "cell_type": "markdown",
      "metadata": {
        "id": "jHq0ROc44Cy0"
      },
      "source": [
        "# Immutable Tuples"
      ]
    },
    {
      "cell_type": "code",
      "metadata": {
        "colab": {
          "base_uri": "https://localhost:8080/",
          "height": 207
        },
        "id": "58Qq7eUn4FdL",
        "outputId": "06b66df8-350b-457c-8bd1-2b1df51fb817"
      },
      "source": [
        "#code to test that tuples are immutable \r\n",
        "\r\n",
        "tuple1 = (0, 1, 2, 3) \r\n",
        "tuple1[0] = 4\r\n",
        "print(tuple1) \r\n"
      ],
      "execution_count": null,
      "outputs": [
        {
          "output_type": "error",
          "ename": "TypeError",
          "evalue": "ignored",
          "traceback": [
            "\u001b[0;31m---------------------------------------------------------------------------\u001b[0m",
            "\u001b[0;31mTypeError\u001b[0m                                 Traceback (most recent call last)",
            "\u001b[0;32m<ipython-input-21-d1b60c4f9381>\u001b[0m in \u001b[0;36m<module>\u001b[0;34m()\u001b[0m\n\u001b[1;32m      2\u001b[0m \u001b[0;34m\u001b[0m\u001b[0m\n\u001b[1;32m      3\u001b[0m \u001b[0mtuple1\u001b[0m \u001b[0;34m=\u001b[0m \u001b[0;34m(\u001b[0m\u001b[0;36m0\u001b[0m\u001b[0;34m,\u001b[0m \u001b[0;36m1\u001b[0m\u001b[0;34m,\u001b[0m \u001b[0;36m2\u001b[0m\u001b[0;34m,\u001b[0m \u001b[0;36m3\u001b[0m\u001b[0;34m)\u001b[0m\u001b[0;34m\u001b[0m\u001b[0;34m\u001b[0m\u001b[0m\n\u001b[0;32m----> 4\u001b[0;31m \u001b[0mtuple1\u001b[0m\u001b[0;34m[\u001b[0m\u001b[0;36m0\u001b[0m\u001b[0;34m]\u001b[0m \u001b[0;34m=\u001b[0m \u001b[0;36m4\u001b[0m\u001b[0;34m\u001b[0m\u001b[0;34m\u001b[0m\u001b[0m\n\u001b[0m\u001b[1;32m      5\u001b[0m \u001b[0mprint\u001b[0m\u001b[0;34m(\u001b[0m\u001b[0mtuple1\u001b[0m\u001b[0;34m)\u001b[0m\u001b[0;34m\u001b[0m\u001b[0;34m\u001b[0m\u001b[0m\n",
            "\u001b[0;31mTypeError\u001b[0m: 'tuple' object does not support item assignment"
          ]
        }
      ]
    },
    {
      "cell_type": "markdown",
      "metadata": {
        "id": "7XSSbb-a4K-0"
      },
      "source": [
        "# Slicing in Tuples"
      ]
    },
    {
      "cell_type": "code",
      "metadata": {
        "colab": {
          "base_uri": "https://localhost:8080/"
        },
        "id": "jG7VYF8o4Ooh",
        "outputId": "34fa2495-86f0-4aae-aafc-9d4ec61d0c27"
      },
      "source": [
        "# code to test slicing \r\n",
        "\r\n",
        "tuple1 = (0 ,1, 2, 3) \r\n",
        "print(tuple1[1:]) \r\n",
        "print(tuple1[::-1]) \r\n",
        "print(tuple1[2:4]) \r\n"
      ],
      "execution_count": null,
      "outputs": [
        {
          "output_type": "stream",
          "text": [
            "(1, 2, 3)\n",
            "(3, 2, 1, 0)\n",
            "(2, 3)\n"
          ],
          "name": "stdout"
        }
      ]
    },
    {
      "cell_type": "markdown",
      "metadata": {
        "id": "Q34lbw2O4TJt"
      },
      "source": [
        "# Deleting a Tuple"
      ]
    },
    {
      "cell_type": "code",
      "metadata": {
        "colab": {
          "base_uri": "https://localhost:8080/",
          "height": 191
        },
        "id": "vkQKR1W34Swx",
        "outputId": "92f7b23f-18f7-4dbf-b6e5-51dfbf3745e6"
      },
      "source": [
        "# Code for deleting a tuple \r\n",
        "\r\n",
        "tuple3 = ( 0, 1) \r\n",
        "del tuple3 \r\n",
        "print(tuple3) \r\n"
      ],
      "execution_count": null,
      "outputs": [
        {
          "output_type": "error",
          "ename": "NameError",
          "evalue": "ignored",
          "traceback": [
            "\u001b[0;31m---------------------------------------------------------------------------\u001b[0m",
            "\u001b[0;31mNameError\u001b[0m                                 Traceback (most recent call last)",
            "\u001b[0;32m<ipython-input-26-6624d89fa3fb>\u001b[0m in \u001b[0;36m<module>\u001b[0;34m()\u001b[0m\n\u001b[1;32m      3\u001b[0m \u001b[0mtuple3\u001b[0m \u001b[0;34m=\u001b[0m \u001b[0;34m(\u001b[0m \u001b[0;36m0\u001b[0m\u001b[0;34m,\u001b[0m \u001b[0;36m1\u001b[0m\u001b[0;34m)\u001b[0m\u001b[0;34m\u001b[0m\u001b[0;34m\u001b[0m\u001b[0m\n\u001b[1;32m      4\u001b[0m \u001b[0;32mdel\u001b[0m \u001b[0mtuple3\u001b[0m\u001b[0;34m\u001b[0m\u001b[0;34m\u001b[0m\u001b[0m\n\u001b[0;32m----> 5\u001b[0;31m \u001b[0mprint\u001b[0m\u001b[0;34m(\u001b[0m\u001b[0mtuple3\u001b[0m\u001b[0;34m)\u001b[0m\u001b[0;34m\u001b[0m\u001b[0;34m\u001b[0m\u001b[0m\n\u001b[0m",
            "\u001b[0;31mNameError\u001b[0m: name 'tuple3' is not defined"
          ]
        }
      ]
    },
    {
      "cell_type": "markdown",
      "metadata": {
        "id": "yi0LbHFn4Yil"
      },
      "source": [
        "# Finding Length of a Tuple"
      ]
    },
    {
      "cell_type": "code",
      "metadata": {
        "colab": {
          "base_uri": "https://localhost:8080/"
        },
        "id": "r1mn4Hy_4a2v",
        "outputId": "e7d4cc63-0e05-4f5f-a438-512b739da9b1"
      },
      "source": [
        "# Code for printing the length of a tuple \r\n",
        "\r\n",
        "tuple2 = ('python', 'geek') \r\n",
        "print(len(tuple2)) \r\n"
      ],
      "execution_count": null,
      "outputs": [
        {
          "output_type": "stream",
          "text": [
            "2\n"
          ],
          "name": "stdout"
        }
      ]
    },
    {
      "cell_type": "markdown",
      "metadata": {
        "id": "E1FJm9EZ4hwp"
      },
      "source": [
        "# Converting list to a Tuple"
      ]
    },
    {
      "cell_type": "code",
      "metadata": {
        "colab": {
          "base_uri": "https://localhost:8080/"
        },
        "id": "pB3yX8za4iXR",
        "outputId": "1428e6df-0388-4366-8ca2-b0f780e22c41"
      },
      "source": [
        "# Code for converting a list and a string into a tuple \r\n",
        "\r\n",
        "list1 = [0, 1, 2] \r\n",
        "print(tuple(list1)) \r\n",
        "print(tuple('python')) # string 'python' \r\n"
      ],
      "execution_count": null,
      "outputs": [
        {
          "output_type": "stream",
          "text": [
            "(0, 1, 2)\n",
            "('p', 'y', 't', 'h', 'o', 'n')\n"
          ],
          "name": "stdout"
        }
      ]
    },
    {
      "cell_type": "markdown",
      "metadata": {
        "id": "kzOB028c4pI9"
      },
      "source": [
        "# Tuples in a loop"
      ]
    },
    {
      "cell_type": "code",
      "metadata": {
        "colab": {
          "base_uri": "https://localhost:8080/"
        },
        "id": "7Dr11aDk4roG",
        "outputId": "1ca3e4ea-9f14-43dd-8749-41650c7faec1"
      },
      "source": [
        "#python code for creating tuples in a loop \r\n",
        "\r\n",
        "tup = ('geek',) \r\n",
        "n = 5 #Number of time loop runs \r\n",
        "for i in range(int(n)): \r\n",
        "\ttup = (tup,) \r\n",
        "\tprint(tup) \r\n"
      ],
      "execution_count": null,
      "outputs": [
        {
          "output_type": "stream",
          "text": [
            "(('geek',),)\n",
            "((('geek',),),)\n",
            "(((('geek',),),),)\n",
            "((((('geek',),),),),)\n",
            "(((((('geek',),),),),),)\n"
          ],
          "name": "stdout"
        }
      ]
    },
    {
      "cell_type": "markdown",
      "metadata": {
        "id": "RBGmZHPC2I9w"
      },
      "source": [
        "# 7. Write a program to demonstrate working with dictionaries in python"
      ]
    },
    {
      "cell_type": "markdown",
      "metadata": {
        "id": "dCMTqyq2GJMc"
      },
      "source": [
        "Dictionary in Python is an unordered collection of data values, used to store data values like a map, which unlike other Data Types that hold only single value as an element, Dictionary holds key:value pair. Key value is provided in the dictionary to make it more optimized.\r\n",
        "\r\n",
        "Note – Keys in a dictionary doesn’t allows Polymorphism.\r\n",
        "\r\n",
        "#Creating a Dictionary\r\n",
        "In Python, a Dictionary can be created by placing sequence of elements within curly {} braces, separated by ‘comma’. Dictionary holds a pair of values, one being the Key and the other corresponding pair element being its Key:value. Values in a dictionary can be of any datatype and can be duplicated, whereas keys can’t be repeated and must be immutable.\r\n",
        "\r\n",
        "Note – Dictionary keys are case sensitive, same name but different cases of Key will be treated distinctly.\r\n",
        " "
      ]
    },
    {
      "cell_type": "code",
      "metadata": {
        "colab": {
          "base_uri": "https://localhost:8080/"
        },
        "id": "w0l2NBiXGHxH",
        "outputId": "4d358fe1-2d1c-401d-d343-a662d3b32588"
      },
      "source": [
        "# Creating a Dictionary \r\n",
        "# with Integer Keys \r\n",
        "Dict = {1: 'Geeks', 2: 'For', 3: 'Geeks'} \r\n",
        "print(\"\\nDictionary with the use of Integer Keys: \") \r\n",
        "print(Dict) \r\n",
        "\r\n",
        "# Creating a Dictionary \r\n",
        "# with Mixed keys \r\n",
        "Dict = {'Name': 'Geeks', 1: [1, 2, 3, 4]} \r\n",
        "print(\"\\nDictionary with the use of Mixed Keys: \") \r\n",
        "print(Dict) \r\n"
      ],
      "execution_count": null,
      "outputs": [
        {
          "output_type": "stream",
          "text": [
            "\n",
            "Dictionary with the use of Integer Keys: \n",
            "{1: 'Geeks', 2: 'For', 3: 'Geeks'}\n",
            "\n",
            "Dictionary with the use of Mixed Keys: \n",
            "{'Name': 'Geeks', 1: [1, 2, 3, 4]}\n"
          ],
          "name": "stdout"
        }
      ]
    },
    {
      "cell_type": "markdown",
      "metadata": {
        "id": "s-I7eZniGiKc"
      },
      "source": [
        "#Dictionary can also be created by the built-in function dict(). An empty dictionary can be created by just placing to curly braces{}."
      ]
    },
    {
      "cell_type": "code",
      "metadata": {
        "colab": {
          "base_uri": "https://localhost:8080/"
        },
        "id": "6YQFME23GkDD",
        "outputId": "ba683cae-e8ab-43dc-8475-d8b0dda88dcb"
      },
      "source": [
        "# Creating an empty Dictionary \r\n",
        "Dict = {} \r\n",
        "print(\"Empty Dictionary: \") \r\n",
        "print(Dict) \r\n",
        "\r\n",
        "# Creating a Dictionary \r\n",
        "# with dict() method \r\n",
        "Dict = dict({1: 'Geeks', 2: 'For', 3:'Geeks'}) \r\n",
        "print(\"\\nDictionary with the use of dict(): \") \r\n",
        "print(Dict) \r\n",
        "\r\n",
        "# Creating a Dictionary \r\n",
        "# with each item as a Pair \r\n",
        "Dict = dict([(1, 'Geeks'), (2, 'For')]) \r\n",
        "print(\"\\nDictionary with each item as a pair: \") \r\n",
        "print(Dict) \r\n"
      ],
      "execution_count": null,
      "outputs": [
        {
          "output_type": "stream",
          "text": [
            "Empty Dictionary: \n",
            "{}\n",
            "\n",
            "Dictionary with the use of dict(): \n",
            "{1: 'Geeks', 2: 'For', 3: 'Geeks'}\n",
            "\n",
            "Dictionary with each item as a pair: \n",
            "{1: 'Geeks', 2: 'For'}\n"
          ],
          "name": "stdout"
        }
      ]
    },
    {
      "cell_type": "markdown",
      "metadata": {
        "id": "PIvaNaPJGpex"
      },
      "source": [
        "#Nested Dictionary:"
      ]
    },
    {
      "cell_type": "code",
      "metadata": {
        "colab": {
          "base_uri": "https://localhost:8080/"
        },
        "id": "jQJtAuV-Gsv-",
        "outputId": "9c7d9920-360c-4d99-ca0d-299479dcb65d"
      },
      "source": [
        "# Creating a Nested Dictionary \r\n",
        "# as shown in the below image \r\n",
        "Dict = {1: 'Geeks', 2: 'For', \r\n",
        "\t\t3:{'A' : 'Welcome', 'B' : 'To', 'C' : 'Geeks'}} \r\n",
        "\r\n",
        "print(Dict) \r\n"
      ],
      "execution_count": null,
      "outputs": [
        {
          "output_type": "stream",
          "text": [
            "{1: 'Geeks', 2: 'For', 3: {'A': 'Welcome', 'B': 'To', 'C': 'Geeks'}}\n"
          ],
          "name": "stdout"
        }
      ]
    },
    {
      "cell_type": "markdown",
      "metadata": {
        "id": "AgwwGp8ZGwb5"
      },
      "source": [
        "#Adding elements to a Dictionary\r\n",
        "In Python Dictionary, Addition of elements can be done in multiple ways. One value at a time can be added to a Dictionary by defining value along with the key e.g. Dict[Key] = ‘Value’. Updating an existing value in a Dictionary can be done by using the built-in update() method. Nested key values can also be added to an existing Dictionary.\r\n",
        "Note- While adding a value, if the key value already exists, the value gets updated otherwise a new Key with the value is added to the Dictionary."
      ]
    },
    {
      "cell_type": "code",
      "metadata": {
        "colab": {
          "base_uri": "https://localhost:8080/"
        },
        "id": "-U-Zkr6qGzUl",
        "outputId": "9401aa35-6102-4f29-870b-c7d504ddf384"
      },
      "source": [
        "# Creating an empty Dictionary \r\n",
        "Dict = {} \r\n",
        "print(\"Empty Dictionary: \") \r\n",
        "print(Dict) \r\n",
        "\r\n",
        "# Adding elements one at a time \r\n",
        "Dict[0] = 'Geeks'\r\n",
        "Dict[2] = 'For'\r\n",
        "Dict[3] = 1\r\n",
        "print(\"\\nDictionary after adding 3 elements: \") \r\n",
        "print(Dict) \r\n",
        "\r\n",
        "# Adding set of values \r\n",
        "# to a single Key \r\n",
        "Dict['Value_set'] = 2, 3, 4\r\n",
        "print(\"\\nDictionary after adding 3 elements: \") \r\n",
        "print(Dict) \r\n",
        "\r\n",
        "# Updating existing Key's Value \r\n",
        "Dict[2] = 'Welcome'\r\n",
        "print(\"\\nUpdated key value: \") \r\n",
        "print(Dict) \r\n",
        "\r\n",
        "# Adding Nested Key value to Dictionary \r\n",
        "Dict[5] = {'Nested' :{'1' : 'Life', '2' : 'Geeks'}} \r\n",
        "print(\"\\nAdding a Nested Key: \") \r\n",
        "print(Dict) \r\n"
      ],
      "execution_count": null,
      "outputs": [
        {
          "output_type": "stream",
          "text": [
            "Empty Dictionary: \n",
            "{}\n",
            "\n",
            "Dictionary after adding 3 elements: \n",
            "{0: 'Geeks', 2: 'For', 3: 1}\n",
            "\n",
            "Dictionary after adding 3 elements: \n",
            "{0: 'Geeks', 2: 'For', 3: 1, 'Value_set': (2, 3, 4)}\n",
            "\n",
            "Updated key value: \n",
            "{0: 'Geeks', 2: 'Welcome', 3: 1, 'Value_set': (2, 3, 4)}\n",
            "\n",
            "Adding a Nested Key: \n",
            "{0: 'Geeks', 2: 'Welcome', 3: 1, 'Value_set': (2, 3, 4), 5: {'Nested': {'1': 'Life', '2': 'Geeks'}}}\n"
          ],
          "name": "stdout"
        }
      ]
    },
    {
      "cell_type": "markdown",
      "metadata": {
        "id": "Mt6HV_2iG8ho"
      },
      "source": [
        "#Accessing elements from a Dictionary\r\n",
        "In order to access the items of a dictionary refer to its key name.Key can be used inside square brackets.\r\n",
        "\r\n",
        "\r\n"
      ]
    },
    {
      "cell_type": "code",
      "metadata": {
        "colab": {
          "base_uri": "https://localhost:8080/"
        },
        "id": "TXUZu1eVG-tW",
        "outputId": "091e1b05-4889-49e6-fa48-ea04ed991244"
      },
      "source": [
        "# Python program to demonstrate \r\n",
        "# accessing a element from a Dictionary \r\n",
        "\r\n",
        "# Creating a Dictionary \r\n",
        "Dict = {1: 'Geeks', 'name': 'For', 3: 'Geeks'} \r\n",
        "\r\n",
        "# accessing a element using key \r\n",
        "print(\"Accessing a element using key:\") \r\n",
        "print(Dict['name']) \r\n",
        "\r\n",
        "# accessing a element using key \r\n",
        "print(\"Accessing a element using key:\") \r\n",
        "print(Dict[1]) \r\n"
      ],
      "execution_count": null,
      "outputs": [
        {
          "output_type": "stream",
          "text": [
            "Accessing a element using key:\n",
            "For\n",
            "Accessing a element using key:\n",
            "Geeks\n"
          ],
          "name": "stdout"
        }
      ]
    },
    {
      "cell_type": "markdown",
      "metadata": {
        "id": "efZoEKc1HD07"
      },
      "source": [
        "#Accessing element of a nested dictionary\r\n",
        "In order to access the value of any key in nested dictionary, use indexing [] syntax."
      ]
    },
    {
      "cell_type": "code",
      "metadata": {
        "colab": {
          "base_uri": "https://localhost:8080/"
        },
        "id": "JATSxjjGHGKK",
        "outputId": "04876450-f00d-44a9-8aed-84225769242e"
      },
      "source": [
        "# Creating a Dictionary \r\n",
        "Dict = {'Dict1': {1: 'Geeks'}, \r\n",
        "\t\t'Dict2': {'Name': 'For'}} \r\n",
        "\r\n",
        "# Accessing element using key \r\n",
        "print(Dict['Dict1']) \r\n",
        "print(Dict['Dict1'][1]) \r\n",
        "print(Dict['Dict2']['Name']) \r\n"
      ],
      "execution_count": null,
      "outputs": [
        {
          "output_type": "stream",
          "text": [
            "{1: 'Geeks'}\n",
            "Geeks\n",
            "For\n"
          ],
          "name": "stdout"
        }
      ]
    },
    {
      "cell_type": "markdown",
      "metadata": {
        "id": "7c5K9OU5HKp4"
      },
      "source": [
        "#Removing Elements from Dictionary\r\n",
        "Using del keyword\r\n",
        "In Python Dictionary, deletion of keys can be done by using the del keyword. Using del keyword, specific values from a dictionary as well as whole dictionary can be deleted. Items in a Nested dictionary can also be deleted by using del keyword and providing specific nested key and particular key to be deleted from that nested Dictionary.\r\n",
        "\r\n",
        "Note- del Dict will delete the entire dictionary and hence printing it after deletion will raise an Error."
      ]
    },
    {
      "cell_type": "code",
      "metadata": {
        "id": "7np4VeYWHNIb",
        "colab": {
          "base_uri": "https://localhost:8080/"
        },
        "outputId": "a1309581-7729-4559-bef2-ec6ba5cea112"
      },
      "source": [
        "# Initial Dictionary \r\n",
        "Dict = { 5 : 'Welcome', 6 : 'To', 7 : 'Geeks', \r\n",
        "\t\t'A' : {1 : 'Geeks', 2 : 'For', 3 : 'Geeks'}, \r\n",
        "\t\t'B' : {1 : 'Geeks', 2 : 'Life'}} \r\n",
        "print(\"Initial Dictionary: \") \r\n",
        "print(Dict) \r\n",
        "\r\n",
        "# Deleting a Key value \r\n",
        "del Dict[6] \r\n",
        "print(\"\\nDeleting a specific key: \") \r\n",
        "print(Dict) \r\n",
        "\r\n",
        "# Deleting a Key from \r\n",
        "# Nested Dictionary \r\n",
        "del Dict['A'][2] \r\n",
        "print(\"\\nDeleting a key from Nested Dictionary: \") \r\n",
        "print(Dict) \r\n"
      ],
      "execution_count": null,
      "outputs": [
        {
          "output_type": "stream",
          "text": [
            "Initial Dictionary: \n",
            "{5: 'Welcome', 6: 'To', 7: 'Geeks', 'A': {1: 'Geeks', 2: 'For', 3: 'Geeks'}, 'B': {1: 'Geeks', 2: 'Life'}}\n",
            "\n",
            "Deleting a specific key: \n",
            "{5: 'Welcome', 7: 'Geeks', 'A': {1: 'Geeks', 2: 'For', 3: 'Geeks'}, 'B': {1: 'Geeks', 2: 'Life'}}\n",
            "\n",
            "Deleting a key from Nested Dictionary: \n",
            "{5: 'Welcome', 7: 'Geeks', 'A': {1: 'Geeks', 3: 'Geeks'}, 'B': {1: 'Geeks', 2: 'Life'}}\n"
          ],
          "name": "stdout"
        }
      ]
    },
    {
      "cell_type": "markdown",
      "metadata": {
        "id": "Cl-xLtp72IeK"
      },
      "source": [
        "# 8. Write a python program to find largest of three numbers."
      ]
    },
    {
      "cell_type": "code",
      "metadata": {
        "colab": {
          "base_uri": "https://localhost:8080/"
        },
        "id": "7Lo4n694629c",
        "outputId": "eb12cb8f-5590-4ccf-bdc6-a5c41e1045e8"
      },
      "source": [
        "# Python program to find the largest number among the three input numbers\r\n",
        "# take three numbers from user\r\n",
        "num1 = float(input(\"Enter first number: \"))\r\n",
        "num2 = float(input(\"Enter second number: \"))\r\n",
        "num3 = float(input(\"Enter third number: \"))\r\n",
        " \r\n",
        "if (num1 > num2) and (num1 > num3):\r\n",
        "   largest = num1\r\n",
        "elif (num2 > num1) and (num2 > num3):\r\n",
        "   largest = num2\r\n",
        "else:\r\n",
        "   largest = num3\r\n",
        " \r\n",
        "print(\"The largest number is\",largest)"
      ],
      "execution_count": null,
      "outputs": [
        {
          "output_type": "stream",
          "text": [
            "Enter first number: 8\n",
            "Enter second number: 496566\n",
            "Enter third number: 32\n",
            "The largest number is 496566.0\n"
          ],
          "name": "stdout"
        }
      ]
    },
    {
      "cell_type": "markdown",
      "metadata": {
        "id": "Vy3b1Nu3z3Fh"
      },
      "source": [
        "# 9. Write a Python program to convert temperatures to and from Celsius, Fahrenheit. [ Formula: c/5 =f-32/9] "
      ]
    },
    {
      "cell_type": "code",
      "metadata": {
        "colab": {
          "base_uri": "https://localhost:8080/"
        },
        "id": "-EbbSrPa7yyQ",
        "outputId": "6320faf8-8bac-44bb-8863-19790c89b21f"
      },
      "source": [
        "temp = input(\"Input the  temperature you like to convert? (e.g., 45F, 102C etc.) : \")\r\n",
        "degree = int(temp[:-1])\r\n",
        "i_convention = temp[-1]\r\n",
        "\r\n",
        "if i_convention.upper() == \"C\":\r\n",
        "  result = int(round((9 * degree) / 5 + 32))\r\n",
        "  o_convention = \"Fahrenheit\"\r\n",
        "elif i_convention.upper() == \"F\":\r\n",
        "  result = int(round((degree - 32) * 5 / 9))\r\n",
        "  o_convention = \"Celsius\"\r\n",
        "else:\r\n",
        "  print(\"Input proper convention.\")\r\n",
        "  quit()\r\n",
        "print(\"The temperature in\", o_convention, \"is\", result, \"degrees.\")\r\n"
      ],
      "execution_count": null,
      "outputs": [
        {
          "output_type": "stream",
          "text": [
            "Input the  temperature you like to convert? (e.g., 45F, 102C etc.) : 45F\n",
            "The temperature in Celsius is 7 degrees.\n"
          ],
          "name": "stdout"
        }
      ]
    },
    {
      "cell_type": "markdown",
      "metadata": {
        "id": "XLHdaLB32s83"
      },
      "source": [
        "# 10. Write a Python program to construct the following patter, using a nested for loop\r\n",
        "\r\n",
        "#*\r\n",
        "#* *\r\n",
        "#* * *\r\n",
        "#* * * *\r\n",
        "#* * * * *\r\n",
        "#* * * *\r\n",
        "#* * *\r\n",
        "#* *\r\n",
        "#* "
      ]
    },
    {
      "cell_type": "code",
      "metadata": {
        "colab": {
          "base_uri": "https://localhost:8080/"
        },
        "id": "rNczWFSi2zIO",
        "outputId": "922c21b0-1911-4810-f06a-e15d35ae3793"
      },
      "source": [
        "n=5;\r\n",
        "for i in range(n):\r\n",
        "    for j in range(i):\r\n",
        "        print ('* ', end=\"\")\r\n",
        "    print('')\r\n",
        "\r\n",
        "for i in range(n,0,-1):\r\n",
        "    for j in range(i):\r\n",
        "        print('* ', end=\"\")\r\n",
        "    print('')\r\n",
        "\t"
      ],
      "execution_count": null,
      "outputs": [
        {
          "output_type": "stream",
          "text": [
            "\n",
            "* \n",
            "* * \n",
            "* * * \n",
            "* * * * \n",
            "* * * * * \n",
            "* * * * \n",
            "* * * \n",
            "* * \n",
            "* \n"
          ],
          "name": "stdout"
        }
      ]
    }
  ]
}