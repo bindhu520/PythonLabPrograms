{
  "nbformat": 4,
  "nbformat_minor": 0,
  "metadata": {
    "colab": {
      "name": "pythoni.ipynb",
      "provenance": [],
      "authorship_tag": "ABX9TyOpSHqw/Ab3vtvEq0Sh4egP",
      "include_colab_link": true
    },
    "kernelspec": {
      "name": "python3",
      "display_name": "Python 3"
    }
  },
  "cells": [
    {
      "cell_type": "markdown",
      "metadata": {
        "id": "view-in-github",
        "colab_type": "text"
      },
      "source": [
        "<a href=\"https://colab.research.google.com/github/bindhu520/PythonLabPrograms/blob/main/pythoni.ipynb\" target=\"_parent\"><img src=\"https://colab.research.google.com/assets/colab-badge.svg\" alt=\"Open In Colab\"/></a>"
      ]
    },
    {
      "cell_type": "markdown",
      "metadata": {
        "id": "0_MT12MmVdiJ"
      },
      "source": [
        "6. Write a program to demonstrate working with tuples in python. \r\n",
        "7. Write a program to demonstrate working with dictionaries in python. \r\n",
        "8. Write a python program to find largest of three numbers. \r\n",
        "9. Write a Python program to convert temperatures to and from Celsius, Fahrenheit.  [ Formula: c/5 = f-32/9] \r\n",
        "10. Write a Python program to construct the following pattern, using a nested for loop\r\n",
        "* \r\n",
        "* *  \r\n",
        "* * *  \r\n",
        "* * * *  \r\n",
        "* * * * *  \r\n",
        "* * * *  \r\n",
        "* * *  \r\n",
        "* *  \r\n",
        "* \r\n",
        "11. Write a Python script that prints prime numbers less than 20. \r\n",
        "12. Write a python program to find factorial of a number using Recursion.\r\n",
        "13. Write a program that accepts the lengths of three sides of a triangle as inputs. The  program output should indicate whether or not the triangle is a right triangle (Recall  from the Pythagorean Theorem that in a right triangle, the square of one side equals  the sum of the squares of the other two sides). \r\n",
        "14. Write a python program to define a module to find Fibonacci Numbers and import the  module to another program. \r\n",
        "15. Write a python program to define a module and import a specific function in that  module to another program. \r\n",
        "16. Write a script named copyfile.py. This script should prompt the user for the names of  two text files. The contents of the first file should be input and written to the second  file. \r\n",
        "17. Write a program that inputs a text file. The program should print all of the unique  words in the file in alphabetical order. \r\n",
        "18. Write a Python class to convert an integer to a roman numeral. \r\n",
        "19. Write a Python class to implement pow(x, n) \r\n",
        "20. Write a Python class to reverse a string word by word."
      ]
    },
    {
      "cell_type": "markdown",
      "metadata": {
        "id": "ubMIX5myVlTX"
      },
      "source": [
        "#6. Write a program to demonstrate working with tuples in python. "
      ]
    },
    {
      "cell_type": "markdown",
      "metadata": {
        "id": "30OevJm019Dx"
      },
      "source": [
        "# 7. Write a program to demonstrate working with dictionaries in python"
      ]
    },
    {
      "cell_type": "code",
      "metadata": {
        "id": "lgp3SD16SB5-"
      },
      "source": [
        ""
      ],
      "execution_count": null,
      "outputs": []
    },
    {
      "cell_type": "markdown",
      "metadata": {
        "id": "swE1LB_5y3NQ"
      },
      "source": [
        "# 8. Write a python program to find largest of three numbers."
      ]
    },
    {
      "cell_type": "code",
      "metadata": {
        "id": "ERTXvzPB1Red"
      },
      "source": [
        "# Python program to find the largest number among the three input numbers\r\n",
        "# take three numbers from user\r\n",
        "num1 = float(input(\"Enter first number: \"))\r\n",
        "num2 = float(input(\"Enter second number: \"))\r\n",
        "num3 = float(input(\"Enter third number: \"))\r\n",
        " \r\n",
        "if (num1 > num2) and (num1 > num3):\r\n",
        "   largest = num1\r\n",
        "elif (num2 > num1) and (num2 > num3):\r\n",
        "   largest = num2\r\n",
        "else:\r\n",
        "   largest = num3\r\n",
        " \r\n",
        "print(\"The largest number is\",largest)"
      ],
      "execution_count": null,
      "outputs": []
    },
    {
      "cell_type": "markdown",
      "metadata": {
        "id": "NR3UGeB80jh8"
      },
      "source": [
        "#9. Write a Python program to convert temperatures to and from Celsius, Fahrenheit. [ Formula: c/5 =f-32/9]"
      ]
    },
    {
      "cell_type": "code",
      "metadata": {
        "id": "lgAhRIBg1J7m"
      },
      "source": [
        "temp = input(\"Input the  temperature you like to convert? (e.g., 45F, 102C etc.) : \")\r\n",
        "degree = int(temp[:-1])\r\n",
        "i_convention = temp[-1]\r\n",
        "\r\n",
        "if i_convention.upper() == \"C\":\r\n",
        "  result = int(round((9 * degree) / 5 + 32))\r\n",
        "  o_convention = \"Fahrenheit\"\r\n",
        "elif i_convention.upper() == \"F\":\r\n",
        "  result = int(round((degree - 32) * 5 / 9))\r\n",
        "  o_convention = \"Celsius\"\r\n",
        "else:\r\n",
        "  print(\"Input proper convention.\")\r\n",
        "  quit()\r\n",
        "print(\"The temperature in\", o_convention, \"is\", result, \"degrees.\")\r\n"
      ],
      "execution_count": null,
      "outputs": []
    },
    {
      "cell_type": "markdown",
      "metadata": {
        "id": "Z_BMg5450tET"
      },
      "source": [
        "# 10. Write a Python program to construct the following patter, using a nested for loop\r\n",
        "\r\n",
        "#*\r\n",
        "#* *\r\n",
        "#* * *\r\n",
        "#* * * *\r\n",
        "#* * * * *\r\n",
        "#* * * *\r\n",
        "#* * *\r\n",
        "#* *\r\n",
        "#* "
      ]
    },
    {
      "cell_type": "code",
      "metadata": {
        "id": "tBOlMRgQ1Uq3"
      },
      "source": [
        "n=5;\r\n",
        "for i in range(n):\r\n",
        "    for j in range(i):\r\n",
        "        print ('* ', end=\"\")\r\n",
        "    print('')\r\n",
        "\r\n",
        "for i in range(n,0,-1):\r\n",
        "    for j in range(i):\r\n",
        "        print('* ', end=\"\")\r\n",
        "    print('')\r\n",
        "\t"
      ],
      "execution_count": null,
      "outputs": []
    },
    {
      "cell_type": "markdown",
      "metadata": {
        "id": "DV-P8ZI6YW8x"
      },
      "source": [
        "#Program 11:\r\n",
        "Write a Python script that prints prime numbers less than 20."
      ]
    },
    {
      "cell_type": "code",
      "metadata": {
        "colab": {
          "base_uri": "https://localhost:8080/"
        },
        "id": "7ZQlDGjlYdZ5",
        "outputId": "d866f0b7-a076-4e99-c2b4-24217c68fe8c"
      },
      "source": [
        "lower = int(input(\"Enter lower range: \"))  \r\n",
        "upper = int(input(\"Enter upper range: \"))  \r\n",
        "  \r\n",
        "for num in range(lower,upper + 1):  \r\n",
        "   if num > 1:  \r\n",
        "       for i in range(2,num):  \r\n",
        "           if (num % i) == 0:  \r\n",
        "               break  \r\n",
        "       else:  \r\n",
        "           print(num) "
      ],
      "execution_count": 9,
      "outputs": [
        {
          "output_type": "stream",
          "text": [
            "Enter lower range: 2\n",
            "Enter upper range: 10\n",
            "2\n",
            "3\n",
            "5\n",
            "7\n"
          ],
          "name": "stdout"
        }
      ]
    },
    {
      "cell_type": "markdown",
      "metadata": {
        "id": "e7pGaDu7X3s_"
      },
      "source": [
        "#Program 12: Write a python program to find factorial of a number using Recursion."
      ]
    },
    {
      "cell_type": "code",
      "metadata": {
        "colab": {
          "base_uri": "https://localhost:8080/"
        },
        "id": "Il4BDyTpX41_",
        "outputId": "97e5478b-1c86-422d-e94c-2e8d1e2802d5"
      },
      "source": [
        "def recur_factorial(n):  \r\n",
        "   if n == 1:  \r\n",
        "       return n  \r\n",
        "   else:  \r\n",
        "       return n*recur_factorial(n-1)  \r\n",
        "# take input from the user  \r\n",
        "num = int(input(\"Enter a number: \"))  \r\n",
        "# check is the number is negative  \r\n",
        "if num < 0:  \r\n",
        "   print(\"Sorry, factorial does not exist for negative numbers\")  \r\n",
        "elif num == 0:  \r\n",
        "   print(\"The factorial of 0 is 1\")  \r\n",
        "else:  \r\n",
        "   print(\"The factorial of\",num,\"is\",recur_factorial(num))  "
      ],
      "execution_count": 3,
      "outputs": [
        {
          "output_type": "stream",
          "text": [
            "Enter a number: 5\n",
            "The factorial of 5 is 120\n"
          ],
          "name": "stdout"
        }
      ]
    },
    {
      "cell_type": "markdown",
      "metadata": {
        "id": "RWPam1ezZPU7"
      },
      "source": [
        "#Program13: Write a program that accepts the lengths of three sides of a triangle as inputs. The program Expected Output should indicate whether or not the triangle is a right triangle (Recall from the Pythagorean Theorem that in a right triangle, the square of one side equals the sum of the squares of the other two sides).\r\n"
      ]
    },
    {
      "cell_type": "code",
      "metadata": {
        "colab": {
          "base_uri": "https://localhost:8080/"
        },
        "id": "wqZRwkf3ZdX_",
        "outputId": "bca51328-3d2b-4c44-e4ae-eab4b0d9c9eb"
      },
      "source": [
        "from math import sqrt\r\n",
        "print('Pythagorean theorem calculator! Calculate your triangle sides.')\r\n",
        "print('Assume the sides are a, b, c and c is the hypotenuse (the side opposite the right angle')\r\n",
        "formula = input('Which side (a, b, c) do you wish to calculate? side> ')\r\n",
        "if formula == 'c':\r\n",
        "  side_a = int(input('Input the length of side a: '))\r\n",
        "  side_b = int(input('Input the length of side b: '))\r\n",
        "  side_c = sqrt(side_a * side_a + side_b * side_b)\r\n",
        "  print('The length of side c is: ' )\r\n",
        "  print(side_c)\r\n",
        "elif formula == 'a':\r\n",
        "    side_b = int(input('Input the length of side b: '))\r\n",
        "    side_c = int(input('Input the length of side c: '))\r\n",
        "    side_a = sqrt((side_c * side_c) - (side_b * side_b))\r\n",
        "    print('The length of side a is' )\r\n",
        "    print(side_a)\r\n",
        "elif formula == 'b':\r\n",
        "      side_a = int(input('Input the length of side a: '))\r\n",
        "      side_b = int(input('Input the length of side c: '))\r\n",
        "      side_c = sqrt(side_c * side_c - side_a * side_a)\r\n",
        "      print('The length of side b is')\r\n",
        "      print(side_c)\r\n",
        "else:\r\n",
        "        print('Please select a side between a, b, c')\r\n",
        "\r\n"
      ],
      "execution_count": 27,
      "outputs": [
        {
          "output_type": "stream",
          "text": [
            "Pythagorean theorem calculator! Calculate your triangle sides.\n",
            "Assume the sides are a, b, c and c is the hypotenuse (the side opposite the right angle\n",
            "Which side (a, b, c) do you wish to calculate? side> a\n",
            "Input the length of side b: 10\n",
            "Input the length of side c: 15\n",
            "The length of side a is\n",
            "11.180339887498949\n"
          ],
          "name": "stdout"
        }
      ]
    },
    {
      "cell_type": "markdown",
      "metadata": {
        "id": "4fop88pEhdBd"
      },
      "source": [
        "#Program14: Write a python program to define a module to find Fibonacci Numbers and import the module to another program.\r\n"
      ]
    },
    {
      "cell_type": "code",
      "metadata": {
        "id": "xNvgBLisj1Oj"
      },
      "source": [
        "def fib(n):    # write Fibonacci series up to n\r\n",
        "    a, b = 0, 1\r\n",
        "    while b < n:\r\n",
        "        print(b, end=' ')\r\n",
        "        a, b = b, a+b\r\n",
        "    print()\r\n",
        "\r\n",
        "def fib2(n): # return Fibonacci series up to n\r\n",
        "    result = []\r\n",
        "    a, b = 0, 1\r\n",
        "    while b < n:\r\n",
        "        result.append(b)\r\n",
        "        a, b = b, a+b\r\n",
        "    return result"
      ],
      "execution_count": 44,
      "outputs": []
    },
    {
      "cell_type": "code",
      "metadata": {
        "colab": {
          "base_uri": "https://localhost:8080/",
          "height": 310
        },
        "id": "WhrP5q2Zj1Kx",
        "outputId": "03b22af4-3da3-4bba-9aea-a95df5addb30"
      },
      "source": [
        ">>> import fibo"
      ],
      "execution_count": 46,
      "outputs": [
        {
          "output_type": "error",
          "ename": "ModuleNotFoundError",
          "evalue": "ignored",
          "traceback": [
            "\u001b[0;31m---------------------------------------------------------------------------\u001b[0m",
            "\u001b[0;31mModuleNotFoundError\u001b[0m                       Traceback (most recent call last)",
            "\u001b[0;32m<ipython-input-46-eefe155c0e87>\u001b[0m in \u001b[0;36m<module>\u001b[0;34m()\u001b[0m\n\u001b[0;32m----> 1\u001b[0;31m \u001b[0;32mimport\u001b[0m \u001b[0mfibo\u001b[0m\u001b[0;34m\u001b[0m\u001b[0;34m\u001b[0m\u001b[0m\n\u001b[0m",
            "\u001b[0;31mModuleNotFoundError\u001b[0m: No module named 'fibo'",
            "",
            "\u001b[0;31m---------------------------------------------------------------------------\u001b[0;32m\nNOTE: If your import is failing due to a missing package, you can\nmanually install dependencies using either !pip or !apt.\n\nTo view examples of installing some common dependencies, click the\n\"Open Examples\" button below.\n\u001b[0;31m---------------------------------------------------------------------------\u001b[0m\n"
          ]
        }
      ]
    },
    {
      "cell_type": "code",
      "metadata": {
        "colab": {
          "base_uri": "https://localhost:8080/",
          "height": 132
        },
        "id": "3mLvR0FWj1In",
        "outputId": "6a91b860-8e2f-4925-b4ab-5feca08baa06"
      },
      "source": [
        ">>> fibo.fib(1000)\r\n",
        "1 1 2 3 5 8 13 21 34 55 89 144 233 377 610 987\r\n",
        ">>> fibo.fib2(100)\r\n",
        "[1, 1, 2, 3, 5, 8, 13, 21, 34, 55, 89]\r\n",
        ">>> fibo.__name__\r\n",
        "'fibo'"
      ],
      "execution_count": 47,
      "outputs": [
        {
          "output_type": "error",
          "ename": "SyntaxError",
          "evalue": "ignored",
          "traceback": [
            "\u001b[0;36m  File \u001b[0;32m\"<ipython-input-47-306775a5af43>\"\u001b[0;36m, line \u001b[0;32m2\u001b[0m\n\u001b[0;31m    1 1 2 3 5 8 13 21 34 55 89 144 233 377 610 987\u001b[0m\n\u001b[0m      ^\u001b[0m\n\u001b[0;31mSyntaxError\u001b[0m\u001b[0;31m:\u001b[0m invalid syntax\n"
          ]
        }
      ]
    },
    {
      "cell_type": "markdown",
      "metadata": {
        "id": "9lIR2-_qkdft"
      },
      "source": [
        "# Program 15:Write a python program to define a module and import a specific function in that module to another program."
      ]
    },
    {
      "cell_type": "code",
      "metadata": {
        "id": "pxHeVbJ6kj_s"
      },
      "source": [
        "# Python Module example\r\n",
        "def add(a, b):\r\n",
        " \"\"\"This program adds two\r\n",
        " numbers and return the result\"\"\"\r\n",
        " result = a + b\r\n",
        " return result"
      ],
      "execution_count": 48,
      "outputs": []
    },
    {
      "cell_type": "code",
      "metadata": {
        "colab": {
          "base_uri": "https://localhost:8080/",
          "height": 310
        },
        "id": "ZsrBsWVeksDS",
        "outputId": "d0204b65-54a7-4752-9a75-db415072a4cd"
      },
      "source": [
        "import example"
      ],
      "execution_count": 51,
      "outputs": [
        {
          "output_type": "error",
          "ename": "ModuleNotFoundError",
          "evalue": "ignored",
          "traceback": [
            "\u001b[0;31m---------------------------------------------------------------------------\u001b[0m",
            "\u001b[0;31mModuleNotFoundError\u001b[0m                       Traceback (most recent call last)",
            "\u001b[0;32m<ipython-input-51-621866f4e6d7>\u001b[0m in \u001b[0;36m<module>\u001b[0;34m()\u001b[0m\n\u001b[0;32m----> 1\u001b[0;31m \u001b[0;32mimport\u001b[0m \u001b[0mexample\u001b[0m\u001b[0;34m\u001b[0m\u001b[0;34m\u001b[0m\u001b[0m\n\u001b[0m",
            "\u001b[0;31mModuleNotFoundError\u001b[0m: No module named 'example'",
            "",
            "\u001b[0;31m---------------------------------------------------------------------------\u001b[0;32m\nNOTE: If your import is failing due to a missing package, you can\nmanually install dependencies using either !pip or !apt.\n\nTo view examples of installing some common dependencies, click the\n\"Open Examples\" button below.\n\u001b[0;31m---------------------------------------------------------------------------\u001b[0m\n"
          ]
        }
      ]
    },
    {
      "cell_type": "code",
      "metadata": {
        "id": "DzipzOwHkvM2"
      },
      "source": [
        ">>> example.add(4,5.5)"
      ],
      "execution_count": null,
      "outputs": []
    },
    {
      "cell_type": "markdown",
      "metadata": {
        "id": "5ODsmg2kThJp"
      },
      "source": [
        "#Program16: Write a script named copyfile.py. This script should prompt the user for the names of two text files. The contents of the first file should be input and written to the second file."
      ]
    },
    {
      "cell_type": "code",
      "metadata": {
        "id": "uMj8afTnwDzD"
      },
      "source": [
        "# to prompt the user to enter the file1 which is input file\r\n",
        "infile=input(\"enter the input filename with extension \");\r\n",
        "\r\n",
        "# to prompt the user to enter the file2 which is output file\r\n",
        "outfile=input(\"enter the output filename with extension \");\r\n",
        "\r\n",
        "#opening the file1 in reading mode\r\n",
        "f1=open(infile,\"r\");\r\n",
        "\r\n",
        "#opening the file2 in output mode\r\n",
        "f2=open(outfile,\"w+\");\r\n",
        "\r\n",
        "#reading the content of file1 to content variable\r\n",
        "content=f1.read();\r\n",
        "\r\n",
        "#writing to the value of content variable to file2\r\n",
        "f2.write(content);\r\n",
        "\r\n",
        "#closing the file1 and file2\r\n",
        "f1.close();\r\n",
        "f2.close();"
      ],
      "execution_count": null,
      "outputs": []
    },
    {
      "cell_type": "markdown",
      "metadata": {
        "id": "unQHZ4u_vd6E"
      },
      "source": [
        "#Program 17: Write a program that inputs a text file. The program should print all of the unique words in the file in alphabetical order."
      ]
    },
    {
      "cell_type": "code",
      "metadata": {
        "colab": {
          "base_uri": "https://localhost:8080/"
        },
        "id": "GMo_ILjFvkeS",
        "outputId": "2158b432-1eab-4524-b629-30e01ba15c6c"
      },
      "source": [
        "# Program to sort alphabetically the words form a string provided by the user\r\n",
        "\r\n",
        "my_str = \"Hello this Is an Example With cased letters\"\r\n",
        "\r\n",
        "# To take input from the user\r\n",
        "#my_str = input(\"Enter a string: \")\r\n",
        "\r\n",
        "# breakdown the string into a list of words\r\n",
        "words = [word.lower() for word in my_str.split()]\r\n",
        "\r\n",
        "# sort the list\r\n",
        "words.sort()\r\n",
        "\r\n",
        "# display the sorted words\r\n",
        "\r\n",
        "print(\"The sorted words are:\")\r\n",
        "for word in words:\r\n",
        "   print(word)"
      ],
      "execution_count": 55,
      "outputs": [
        {
          "output_type": "stream",
          "text": [
            "The sorted words are:\n",
            "an\n",
            "cased\n",
            "example\n",
            "hello\n",
            "is\n",
            "letters\n",
            "this\n",
            "with\n"
          ],
          "name": "stdout"
        }
      ]
    },
    {
      "cell_type": "markdown",
      "metadata": {
        "id": "uUlVbrQJwNWz"
      },
      "source": [
        "#Program 18: Write a Python class to convert an integer to a roman numeral."
      ]
    },
    {
      "cell_type": "code",
      "metadata": {
        "colab": {
          "base_uri": "https://localhost:8080/"
        },
        "id": "wNbQUB_LwN1O",
        "outputId": "13498974-77fd-4932-9778-fd49da54f94f"
      },
      "source": [
        "intToroman = { 1: 'I', 4: 'IV', 5: 'V', 9: 'IX', 10: 'X', 40: 'XL',\r\n",
        "              50: 'L', 90: 'XC', 100: 'C', 400: 'XD', 500: 'D', 900: 'CM', 1000: 'M'}\r\n",
        "integer = int(input(\"Enter a number: \"))\r\n",
        " \r\n",
        "#Descending intger equivalent of seven roman numerals \r\n",
        "print_order = [1000, 900, 500, 400, 100, 90, 50, 40, 10, 9, 5, 4, 1]\r\n",
        " \r\n",
        "for x in print_order:\r\n",
        "    if integer != 0:\r\n",
        "        quotient= integer//x\r\n",
        " \r\n",
        "        #If quotient is not zero output the roman equivalent\r\n",
        "        if quotient != 0:\r\n",
        "            for y in range(quotient):\r\n",
        "                print(intToroman[x], end=\"\")\r\n",
        " \r\n",
        "        #update integer with remainder\r\n",
        "        integer = integer%x"
      ],
      "execution_count": 59,
      "outputs": [
        {
          "output_type": "stream",
          "text": [
            "Enter a number: 99\n",
            "XCIX"
          ],
          "name": "stdout"
        }
      ]
    },
    {
      "cell_type": "markdown",
      "metadata": {
        "id": "RTd1HX1ixIpU"
      },
      "source": [
        "#Program19: Write a Python class to implement pow(x, n)"
      ]
    },
    {
      "cell_type": "code",
      "metadata": {
        "colab": {
          "base_uri": "https://localhost:8080/"
        },
        "id": "mxMygTeMxMXQ",
        "outputId": "dab4595d-5860-49eb-939d-873e5133216e"
      },
      "source": [
        "class py_solution:\r\n",
        "   def pow(self, x, n):\r\n",
        "        if x==0 or x==1 or n==1:\r\n",
        "            return x \r\n",
        "\r\n",
        "        if x==-1:\r\n",
        "            if n%2 ==0:\r\n",
        "                return 1\r\n",
        "            else:\r\n",
        "                return -1\r\n",
        "        if n==0:\r\n",
        "            return 1\r\n",
        "        if n<0:\r\n",
        "            return 1/self.pow(x,-n)\r\n",
        "        val = self.pow(x,n//2)\r\n",
        "        if n%2 ==0:\r\n",
        "            return val*val\r\n",
        "        return val*val*x\r\n",
        "\r\n",
        "print(py_solution().pow(2, -3));\r\n",
        "print(py_solution().pow(3, 5));\r\n",
        "print(py_solution().pow(100, 0));\r\n"
      ],
      "execution_count": 60,
      "outputs": [
        {
          "output_type": "stream",
          "text": [
            "0.125\n",
            "243\n",
            "1\n"
          ],
          "name": "stdout"
        }
      ]
    },
    {
      "cell_type": "code",
      "metadata": {
        "colab": {
          "base_uri": "https://localhost:8080/"
        },
        "id": "FUpJTU7ex0pU",
        "outputId": "bb8fda33-b617-4e36-c1b0-1f45e11e1fa5"
      },
      "source": [
        "class abc:\r\n",
        "\r\n",
        "    def f(x,y):\r\n",
        "\r\n",
        "        return pow(x,y)\r\n",
        "\r\n",
        "print(abc.f(2,-3))"
      ],
      "execution_count": 62,
      "outputs": [
        {
          "output_type": "stream",
          "text": [
            "0.125\n"
          ],
          "name": "stdout"
        }
      ]
    },
    {
      "cell_type": "markdown",
      "metadata": {
        "id": "G8pKfH_RyGqD"
      },
      "source": [
        "# Program20: Write a Python class to reverse a string word by word."
      ]
    },
    {
      "cell_type": "code",
      "metadata": {
        "colab": {
          "base_uri": "https://localhost:8080/"
        },
        "id": "LK9XYzdyyNE7",
        "outputId": "8a9770f8-f1be-44dd-ffa8-b142b2204598"
      },
      "source": [
        "class py_solution:\r\n",
        "    def reverse_words(self, s):\r\n",
        "        return ' '.join(reversed(s.split()))\r\n",
        "\r\n",
        "\r\n",
        "print(py_solution().reverse_words('hello python'))\r\n"
      ],
      "execution_count": 63,
      "outputs": [
        {
          "output_type": "stream",
          "text": [
            "python hello\n"
          ],
          "name": "stdout"
        }
      ]
    }
  ]
}